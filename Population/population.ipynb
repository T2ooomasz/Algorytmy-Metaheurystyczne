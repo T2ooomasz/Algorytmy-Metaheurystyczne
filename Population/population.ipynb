{
 "cells": [
  {
   "cell_type": "markdown",
   "metadata": {},
   "source": [
    "# Algorytmy populacyjne"
   ]
  },
  {
   "cell_type": "markdown",
   "metadata": {},
   "source": [
    "Partially Mapped Crossover (PMX)"
   ]
  },
  {
   "cell_type": "code",
   "execution_count": 4,
   "metadata": {},
   "outputs": [],
   "source": [
    "import numpy as np"
   ]
  },
  {
   "cell_type": "code",
   "execution_count": 5,
   "metadata": {},
   "outputs": [],
   "source": [
    "P1 = np.array([3,4,8,2,7,1,6,5], dtype=int)\n",
    "P2 = np.array([4,2,5,1,6,8,3,7], dtype=int)\n",
    "O1 = np.zeros(8, dtype=int)\n",
    "O2 = np.zeros(8, dtype=int)"
   ]
  },
  {
   "cell_type": "code",
   "execution_count": 7,
   "metadata": {},
   "outputs": [
    {
     "name": "stdout",
     "output_type": "stream",
     "text": [
      "[0 0 0 1 6 8 0 0]\n",
      "[0 0 0 2 7 1 0 0]\n"
     ]
    }
   ],
   "source": [
    "cut_points = [3, 6] # after those bits\n",
    "O1[cut_points[0]:cut_points[1]] = P2[cut_points[0]:cut_points[1]]\n",
    "O2[cut_points[0]:cut_points[1]] = P1[cut_points[0]:cut_points[1]]\n",
    "print(O1)\n",
    "print(O2)\n"
   ]
  },
  {
   "cell_type": "code",
   "execution_count": 8,
   "metadata": {},
   "outputs": [],
   "source": [
    "'''\n",
    "na O1[i] - powinno być 8, ale 8 już jest na miejscu j, wtedy\n",
    "-> sprawdzamy co jest na miejscu x = P2[j], jeśli x nie ma w O1 to dodajemy je na miejsce O[i], jeśli jest na miejscu z, to wtedy:\n",
    "-> sprawdzamy co jest na miejscu x = P2[z], jesli x ...\n",
    "'''\n",
    "def func(P, O, numb):\n",
    "    if numb in O:\n",
    "        j = 0\n",
    "        while O[j] != numb:\n",
    "            j += 1\n",
    "        numb = func(P, O, P[j])\n",
    "    return numb"
   ]
  },
  {
   "cell_type": "code",
   "execution_count": 10,
   "metadata": {},
   "outputs": [
    {
     "name": "stdout",
     "output_type": "stream",
     "text": [
      "  [3 4 2 1 6 8 7 5] \n",
      "  [4 8 5 2 7 1 3 6]\n"
     ]
    }
   ],
   "source": [
    "def myfunc(P, O, cut_points):\n",
    "    return O\n",
    "\n",
    "def filling(P,O,cut_points):\n",
    "    for i in range(cut_points[0]):\n",
    "        if P[i] not in O:\n",
    "            O[i] = P[i]\n",
    "\n",
    "    for i in range(len(P1) - cut_points[1]):\n",
    "        if P[i+cut_points[1]] not in O:\n",
    "            O[i+cut_points[1]] = P[i+cut_points[1]]\n",
    "\n",
    "    return O\n",
    "\n",
    "def mapping(P,O,cut_points):\n",
    "    for i in range(cut_points[0]):\n",
    "        if P[i] in O and P[i] != O[i]:\n",
    "            j = 0\n",
    "            while O[j] != P[i]:\n",
    "                j += 1\n",
    "            O[i] = func(P, O, P[i])\n",
    "    \n",
    "    for i in range(cut_points[1], len(P1)):\n",
    "        if P[i] in O and P[i] != O[i]:\n",
    "            j = 0\n",
    "            while O[j] != P[i]:\n",
    "                j += 1\n",
    "            O[i] = func(P, O, P[i])\n",
    "\n",
    "    return O\n",
    "\n",
    "O1 = myfunc(P1,O1,cut_points)\n",
    "O2 = myfunc(P2,O2,cut_points)\n",
    "print(\" \", O1,\"\\n \",O2)"
   ]
  },
  {
   "cell_type": "code",
   "execution_count": 1,
   "metadata": {},
   "outputs": [
    {
     "name": "stdout",
     "output_type": "stream",
     "text": [
      "2\n",
      "3\n",
      "4\n",
      "5\n",
      "6\n"
     ]
    }
   ],
   "source": [
    "for i in range(2,7):\n",
    "    print(i)"
   ]
  }
 ],
 "metadata": {
  "interpreter": {
   "hash": "2ba2baedf685caef30f61b4a06758494107aa1792b6d83263b275aa08702cabb"
  },
  "kernelspec": {
   "display_name": "Python 3.9.7 ('base')",
   "language": "python",
   "name": "python3"
  },
  "language_info": {
   "codemirror_mode": {
    "name": "ipython",
    "version": 3
   },
   "file_extension": ".py",
   "mimetype": "text/x-python",
   "name": "python",
   "nbconvert_exporter": "python",
   "pygments_lexer": "ipython3",
   "version": "3.9.7"
  },
  "orig_nbformat": 4
 },
 "nbformat": 4,
 "nbformat_minor": 2
}
