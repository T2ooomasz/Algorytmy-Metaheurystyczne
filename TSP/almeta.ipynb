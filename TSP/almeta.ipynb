{
 "cells": [
  {
   "cell_type": "markdown",
   "metadata": {},
   "source": [
    "# Kurs Algorytmy Metacheurystyczne\n",
    "laboratorium 2021/2022"
   ]
  },
  {
   "cell_type": "markdown",
   "metadata": {},
   "source": [
    "## Laboratoria 1\n",
    "1. Wczytywanie instancji z biblioteki TSPLIB-a w formatach lower_diag_row, full_matrix, euc_2d\n",
    "-- przykładowe instancje: gr120.tsp, berlin52.tsp, br17.atsp\n",
    "-- obowiązkowo należy przetestować dla co najmniej jednej instancji danego formatu. Dobrze jest jednak przetestować na wszystkich instancjach danego formatu, by (1) sprawdzić czy zawsze działa, (2) zorientować się ile w ogóle jest takich instancji (pobrać je sobie od razu)\n",
    "-- dla EUC_2D należy pamiętać o odpowiednim zaokrągleniu wyników\n",
    "-- można użyć gotowych bibliotek (o ile działają)\n"
   ]
  },
  {
   "cell_type": "code",
   "execution_count": 13,
   "metadata": {},
   "outputs": [
    {
     "name": "stdout",
     "output_type": "stream",
     "text": [
      " 9999    3    5   48   48    8    8    5    5    3    3    0    3    5    8    8\n",
      "    5\n",
      "    3 9999    3   48   48    8    8    5    5    0    0    3    0    3    8    8\n",
      "    5\n",
      "    5    3 9999   72   72   48   48   24   24    3    3    5    3    0   48   48\n",
      "   24\n",
      "   48   48   74 9999    0    6    6   12   12   48   48   48   48   74    6    6\n",
      "   12\n",
      "   48   48   74    0 9999    6    6   12   12   48   48   48   48   74    6    6\n",
      "   12\n",
      "    8    8   50    6    6 9999    0    8    8    8    8    8    8   50    0    0\n",
      "    8\n",
      "    8    8   50    6    6    0 9999    8    8    8    8    8    8   50    0    0\n",
      "    8\n",
      "    5    5   26   12   12    8    8 9999    0    5    5    5    5   26    8    8\n",
      "    0\n",
      "    5    5   26   12   12    8    8    0 9999    5    5    5    5   26    8    8\n",
      "    0\n",
      "    3    0    3   48   48    8    8    5    5 9999    0    3    0    3    8    8\n",
      "    5\n",
      "    3    0    3   48   48    8    8    5    5    0 9999    3    0    3    8    8\n",
      "    5\n",
      "    0    3    5   48   48    8    8    5    5    3    3 9999    3    5    8    8\n",
      "    5\n",
      "    3    0    3   48   48    8    8    5    5    0    0    3 9999    3    8    8\n",
      "    5\n",
      "    5    3    0   72   72   48   48   24   24    3    3    5    3 9999   48   48\n",
      "   24\n",
      "    8    8   50    6    6    0    0    8    8    8    8    8    8   50 9999    0\n",
      "    8\n",
      "    8    8   50    6    6    0    0    8    8    8    8    8    8   50    0 9999\n",
      "    8\n",
      "    5    5   26   12   12    8    8    0    0    5    5    5    5   26    8    8\n",
      " 9999\n",
      "EOF\n",
      "\n",
      "[]\n"
     ]
    }
   ],
   "source": [
    "import math\n",
    "import numpy as np\n",
    "# Open input file\n",
    "infile = open('br17.atsp', 'r')\n",
    "\n",
    "# Read instance header\n",
    "Name = infile.readline().strip().split()[1] # NAME\n",
    "FileType = infile.readline().strip().split()[1] # TYPE\n",
    "Comment = infile.readline().strip().split()[1] # COMMENT\n",
    "Dimension = infile.readline().strip().split()[1] # DIMENSION\n",
    "EdgeWeightType = infile.readline().strip().split()[1] # EDGE_WEIGHT_TYPE\n",
    "infile.readline()\n",
    "infile.readline()\n",
    "\n",
    "N = int(Dimension)\n",
    "#l = [[int(num) for num in line.split('    ')] for line in infile]\n",
    "#input = np.loadtxt(\"br17.atsp\", dtype='i', delimiter=' ')\n",
    "#for i in range(N):\n",
    "#    for j in range(N):\n",
    "#        Matrix[i][j] = \n",
    "\n",
    "# Read node list\n",
    "nodelist = []\n",
    "distances = []\n",
    "x = infile.read()\n",
    "print(x)\n",
    "'''\n",
    "for i in range(0, N):\n",
    "    x = infile.readline().strip().split()[0:]\n",
    "    nodelist.append(x)\n",
    "'''\n",
    "'''   \n",
    "for i in range(0,N):\n",
    "    for j in range(0, N):\n",
    "        xd = nodelist[i][i]\n",
    "        distances[i][j] = distances[j][i] = int(math.sqrt())\n",
    "'''\n",
    "print(nodelist)\n",
    "# Close input file\n",
    "infile.close()"
   ]
  },
  {
   "cell_type": "code",
   "execution_count": null,
   "metadata": {},
   "outputs": [
    {
     "ename": "",
     "evalue": "",
     "output_type": "error",
     "traceback": [
      "\u001b[1;31mRunning cells with 'Python 3.8.8 64-bit (system)' requires ipykernel package.\n",
      "Run the following command to install 'ipykernel' into the Python environment. \n",
      "Command: 'C:/msys64/mingw64/bin/python.exe -m pip install ipykernel -U --user --force-reinstall'"
     ]
    }
   ],
   "source": [
    "import tsplib95\n",
    "import sys\n",
    "import random\n",
    "\n",
    "def fill_matrix(sizeTab, matr):\n",
    "\n",
    "    for i in range(0, sizeTab):\n",
    "        for j in range(0, sizeTab):\n",
    "            edge = i, j\n",
    "            matr[i][j] = problem.get_weight(*edge)\n",
    "\n",
    "\n",
    "def destination(sizeTab, matr):\n",
    "    weight = 0\n",
    "    for i in range(0, int(sizeTab) - 1):\n",
    "        weight += matr[tour[i]][tour[i + 1]]\n",
    "    weight += matr[tour[int(sizeTab) - 1]][tour[0]]\n",
    "    print(weight)\n",
    "\n",
    "problem = tsplib95.load('C:/Users/piotr/Desktop/Meta/ft53.atsp')\n",
    "problem2 = tsplib95.load('C:/Users/piotr/Desktop/Meta/brg180.opt.tour')\n",
    "k = problem.is_full_matrix()\n",
    "zmienna = list(problem.get_nodes())\n",
    "sizeTab = len(zmienna)\n",
    "print(sizeTab)\n",
    "matr = [[0 for _ in range(sizeTab)] for _ in range(sizeTab)]\n",
    "if not k:\n",
    "    if not problem.is_explicit():\n",
    "\n",
    "        tour = [0 for j in range(int(sizeTab))]\n",
    "        for i in range(0, int(sizeTab)):\n",
    "            tour[i] = i\n",
    "        random.shuffle(tour)\n",
    "        tour = list(problem2.tours[0])\n",
    "        print(tour)\n",
    "\n",
    "        for i in range(0, sizeTab):\n",
    "            for j in range(0, sizeTab):\n",
    "                edge = i + 1, j + 1\n",
    "                matr[i][j] = problem.get_weight(*edge)\n",
    "        weight = 0\n",
    "        for i in range(0, int(sizeTab) - 1):\n",
    "            weight += matr[tour[i] - 1][tour[i + 1] - 1]\n",
    "        weight += matr[tour[int(sizeTab) - 1] - 1][tour[0] - 1]\n",
    "        print(weight)\n",
    "    else:\n",
    "\n",
    "        tour = [0 for j in range(int(sizeTab))]\n",
    "        for i in range(0, int(sizeTab)):\n",
    "            tour[i] = i\n",
    "        random.shuffle(tour)\n",
    "        tour = list(problem2.tours[0])\n",
    "        for i in range(0, int(sizeTab)):\n",
    "            tour[i] = tour[i] - 1\n",
    "        print(tour)\n",
    "        fill_matrix(sizeTab, matr)\n",
    "        destination(sizeTab, matr)\n",
    "else:\n",
    "\n",
    "    tour = [0 for j in range(int(sizeTab))]\n",
    "    for i in range(0, int(sizeTab)):\n",
    "        tour[i] = i\n",
    "    random.shuffle(tour)\n",
    "    # tour = list(problem2.tours[0])\n",
    "    print(tour)\n",
    "    fill_matrix(sizeTab, matr)\n",
    "    destination(sizeTab, matr)\n",
    "\n",
    "matrix = [[0, 45, 16, 123], [124, 0, 34, 24], [12, 90, 0, 13], [1, 234, 122, 0]]\n",
    "tour = [0, 2, 1, 3]\n",
    "destination(4, matrix)"
   ]
  },
  {
   "cell_type": "markdown",
   "metadata": {},
   "source": [
    "2. Generowanie losowych instancji dla poszczególnych wariantów (ogólny/asymetryczny, symetryczny, euklidesowy 2D). Argumentem funkcji powinien być rozmiar problemu, ziarno dla generatora liczb pseudolosywch, wariant problemu oraz ewentualnie parametry decydujące o zakresie wartości."
   ]
  },
  {
   "cell_type": "code",
   "execution_count": 1,
   "metadata": {},
   "outputs": [],
   "source": [
    "import numpy as np\n",
    "number_of_cities = 100\n",
    "\n",
    "def symetric_random_instance(number_of_cities):\n",
    "    rand_matrix = np.random.random_integers(1, 100, size=10)\n",
    "    for i in range(Dimension(rand_matrix)):\n",
    "        rand_matrix[i][i] = 0"
   ]
  },
  {
   "cell_type": "code",
   "execution_count": 1,
   "metadata": {},
   "outputs": [],
   "source": [
    "def asymetric_random_instance(number_of_cities, min_distance, max_distance):\n",
    "    seed = 2021\n",
    "    np.random.seed(seed)\n",
    "    rand_matrix =np.random.randint(min_distance, max_distance + 1, size=(number_of_cities,number_of_cities))\n",
    "    # np.random.random_integers(min_distance, max_distance, size=(number_of_cities,number_of_cities))\n",
    "    for i in range(number_of_cities):\n",
    "        rand_matrix[i][i] = 0\n",
    "    return rand_matrix"
   ]
  },
  {
   "cell_type": "code",
   "execution_count": 100,
   "metadata": {},
   "outputs": [
    {
     "ename": "ValueError",
     "evalue": "invalid literal for int() with base 10: 'data'",
     "output_type": "error",
     "traceback": [
      "\u001b[1;31m---------------------------------------------------------------------------\u001b[0m",
      "\u001b[1;31mValueError\u001b[0m                                Traceback (most recent call last)",
      "\u001b[1;32m~\\AppData\\Local\\Temp/ipykernel_26644/2063184974.py\u001b[0m in \u001b[0;36m<module>\u001b[1;34m\u001b[0m\n\u001b[0;32m     83\u001b[0m     \u001b[1;32mreturn\u001b[0m \u001b[0mdistances\u001b[0m\u001b[1;33m,\u001b[0m \u001b[0mnodelist\u001b[0m\u001b[1;33m\u001b[0m\u001b[1;33m\u001b[0m\u001b[0m\n\u001b[0;32m     84\u001b[0m \u001b[1;33m\u001b[0m\u001b[0m\n\u001b[1;32m---> 85\u001b[1;33m \u001b[0mdistances\u001b[0m\u001b[1;33m,\u001b[0m \u001b[0mnodelist\u001b[0m \u001b[1;33m=\u001b[0m \u001b[0mset_Matrix\u001b[0m\u001b[1;33m(\u001b[0m\u001b[1;33m)\u001b[0m\u001b[1;33m\u001b[0m\u001b[1;33m\u001b[0m\u001b[0m\n\u001b[0m\u001b[0;32m     86\u001b[0m \u001b[1;31m#print(nodelist)\u001b[0m\u001b[1;33m\u001b[0m\u001b[1;33m\u001b[0m\u001b[0m\n\u001b[0;32m     87\u001b[0m \u001b[1;33m\u001b[0m\u001b[0m\n",
      "\u001b[1;32m~\\AppData\\Local\\Temp/ipykernel_26644/2063184974.py\u001b[0m in \u001b[0;36mset_Matrix\u001b[1;34m()\u001b[0m\n\u001b[0;32m     63\u001b[0m     \u001b[0minfile\u001b[0m\u001b[1;33m.\u001b[0m\u001b[0mreadline\u001b[0m\u001b[1;33m(\u001b[0m\u001b[1;33m)\u001b[0m\u001b[1;33m\u001b[0m\u001b[1;33m\u001b[0m\u001b[0m\n\u001b[0;32m     64\u001b[0m     \u001b[1;31m# Read node list\u001b[0m\u001b[1;33m\u001b[0m\u001b[1;33m\u001b[0m\u001b[0m\n\u001b[1;32m---> 65\u001b[1;33m     \u001b[0mN\u001b[0m \u001b[1;33m=\u001b[0m \u001b[0mint\u001b[0m\u001b[1;33m(\u001b[0m\u001b[0mDimension\u001b[0m\u001b[1;33m)\u001b[0m\u001b[1;33m\u001b[0m\u001b[1;33m\u001b[0m\u001b[0m\n\u001b[0m\u001b[0;32m     66\u001b[0m     \u001b[0mnodelist\u001b[0m \u001b[1;33m=\u001b[0m \u001b[0mnp\u001b[0m\u001b[1;33m.\u001b[0m\u001b[0mempty\u001b[0m\u001b[1;33m(\u001b[0m\u001b[1;33m(\u001b[0m\u001b[1;36m0\u001b[0m\u001b[1;33m,\u001b[0m\u001b[1;36m2\u001b[0m\u001b[1;33m)\u001b[0m\u001b[1;33m,\u001b[0m \u001b[0mint\u001b[0m\u001b[1;33m)\u001b[0m\u001b[1;33m\u001b[0m\u001b[1;33m\u001b[0m\u001b[0m\n\u001b[0;32m     67\u001b[0m     \u001b[0mdistances\u001b[0m \u001b[1;33m=\u001b[0m \u001b[0mnp\u001b[0m\u001b[1;33m.\u001b[0m\u001b[0mzeros\u001b[0m\u001b[1;33m(\u001b[0m\u001b[1;33m(\u001b[0m\u001b[0mN\u001b[0m\u001b[1;33m,\u001b[0m \u001b[0mN\u001b[0m\u001b[1;33m)\u001b[0m\u001b[1;33m)\u001b[0m\u001b[1;33m\u001b[0m\u001b[1;33m\u001b[0m\u001b[0m\n",
      "\u001b[1;31mValueError\u001b[0m: invalid literal for int() with base 10: 'data'"
     ]
    }
   ],
   "source": [
    "import math\n",
    "import random\n",
    "import tsplib95\n",
    "from tsplib95 import distances\n",
    "import numpy as np\n",
    "import matplotlib.pyplot as plt\n",
    "import time\n",
    "\n",
    "def scatter_cities(cities_list):\n",
    "    X, Y = cities_list.T\n",
    "    plt.scatter(X, Y, marker='x')\n",
    "    plt.show()\n",
    "def euclidean_instance(filename):\n",
    "    instance = tsplib95.load('instance/' +filename)\n",
    "    nodes =  len(list(instance.get_nodes()))\n",
    "    edges =  list(instance.get_edges())\n",
    "    length = len(edges)\n",
    "    weight = [None]*length\n",
    "    matrix = np.zeros((nodes, nodes))\n",
    "    for i in range(0, length):\n",
    "        weight[i] = instance.get_weight(edges[i][0], edges[i][1])\n",
    "        matrix[edges[i][0]-1][edges[i][1]-1] = weight[i]\n",
    "\n",
    "    return nodes, matrix, edges\n",
    "\n",
    "def read_file(filename, type):\n",
    "\n",
    "    if type == 'tsp':\n",
    "        f = open('instance/' +filename, 'r')\n",
    "    elif type == 'atsp':\n",
    "        f = open('instance/' +filename, 'r')\n",
    "\n",
    "    name = f.readline().strip().split()[1]\n",
    "    filetype = f.readline().strip().split()[1]\n",
    "    comment = f.readline().strip().split()[1]\n",
    "    dimension = f.readline().strip().split()[1] \n",
    "\n",
    "    line = f.readline()\n",
    "\n",
    "    while line.find(\"EDGE_WEIGHT_TYPE\") == -1:\n",
    "        line = f.readline()\n",
    "\n",
    "    if line.find(\"EUC_2D\") != -1:\n",
    "        number_of_cities, distance_matrix, edges = euclidean_instance(filename)\n",
    "    else:\n",
    "        raise Exception\n",
    "    \n",
    "    return number_of_cities, distance_matrix, edges\n",
    "\n",
    "#number_of_cities, distance_matrix, edges = read_file('berlin52.tsp', 'tsp')\n",
    "#print(edges)\n",
    "\n",
    "def set_Matrix():\n",
    "    # Open input file\n",
    "    infile = open('instance/usa13509.tsp', 'r')\n",
    "\n",
    "    # Read instance header\n",
    "    Name = infile.readline().strip().split()[1] # NAME\n",
    "    FileType = infile.readline().strip().split()[1] # TYPE\n",
    "    Comment = infile.readline().strip().split()[1] # COMMENT\n",
    "    Comment = infile.readline().strip().split()[1] # COMMENT\n",
    "    Comment = infile.readline().strip().split()[1] # COMMENT\n",
    "    Comment = infile.readline().strip().split()[1] # COMMENT\n",
    "    Dimension = infile.readline().strip().split()[2] # DIMENSION\n",
    "    EdgeWeightType = infile.readline().strip().split()[2] # EDGE_WEIGHT_TYPE\n",
    "    infile.readline()\n",
    "    # Read node list\n",
    "    N = int(Dimension)\n",
    "    nodelist = np.empty((0,2), int)\n",
    "    distances = np.zeros((N, N))\n",
    "    for i in range(0, N):\n",
    "        x,y = infile.readline().strip().split()[1:]\n",
    "        nodelist = np.concatenate((nodelist, [[float(x), float(y)]]), axis=0)\n",
    "        #print(nodelist)\n",
    "        #nodelist.append([float(x), float(y)])\n",
    "\n",
    "    for i in range(0,N):\n",
    "        for j in range(0, N):\n",
    "            # xd = nodelist[i][i]\n",
    "            distances[i][j] = int(math.sqrt((nodelist[i][0] - nodelist[j][0])**2 + (nodelist[i][1] - nodelist[j][1])**2))\n",
    "            distances[j][i] = distances[i][j]\n",
    "\n",
    "    # print(nodelist)\n",
    "    # Close input file\n",
    "    infile.close()\n",
    "    return distances, nodelist\n",
    "\n",
    "distances, nodelist = set_Matrix()\n",
    "#print(nodelist)\n",
    "\n",
    "scatter_cities(nodelist)"
   ]
  },
  {
   "cell_type": "code",
   "execution_count": 95,
   "metadata": {},
   "outputs": [],
   "source": [
    "def scatter_cities(cities_list):\n",
    "    X, Y = cities_list.T\n",
    "    plt.scatter(X, Y, marker='x')\n",
    "    plt.savefig('TOJESTNIESAMOWITE.png')"
   ]
  },
  {
   "cell_type": "code",
   "execution_count": 52,
   "metadata": {},
   "outputs": [
    {
     "name": "stdout",
     "output_type": "stream",
     "text": [
      "[[ 4  0]\n",
      " [ 6 12]\n",
      " [ 5 12]\n",
      " [ 6  6]\n",
      " [ 6  6]\n",
      " [ 1  5]\n",
      " [ 7  1]\n",
      " [ 1  5]\n",
      " [ 2 16]\n",
      " [ 3 17]]\n",
      "[[ 0. 12. 12.  6.  6.  5.  3.  5. 16. 17.]\n",
      " [12.  0.  1.  6.  6.  8. 11.  8.  5.  5.]\n",
      " [12.  1.  0.  6.  6.  8. 11.  8.  5.  5.]\n",
      " [ 6.  6.  6.  0.  0.  5.  5.  5. 10. 11.]\n",
      " [ 6.  6.  6.  0.  0.  5.  5.  5. 10. 11.]\n",
      " [ 5.  8.  8.  5.  5.  0.  7.  0. 11. 12.]\n",
      " [ 3. 11. 11.  5.  5.  7.  0.  7. 15. 16.]\n",
      " [ 5.  8.  8.  5.  5.  0.  7.  0. 11. 12.]\n",
      " [16.  5.  5. 10. 10. 11. 15. 11.  0.  1.]\n",
      " [17.  5.  5. 11. 11. 12. 16. 12.  1.  0.]]\n"
     ]
    },
    {
     "data": {
      "image/png": "[encoded data removed]",
      "text/plain": [
       "<Figure size 432x288 with 1 Axes>"
      ]
     },
     "metadata": {
      "needs_background": "light"
     },
     "output_type": "display_data"
    }
   ],
   "source": [
    "# imports\n",
    "import numpy as np\n",
    "import math\n",
    "import matplotlib.pyplot as plt\n",
    "\n",
    "\n",
    "def euclidean_2d_instance(number_of_cities, max_x, max_y, seed):\n",
    "    np.random.seed(seed)    # set seed\n",
    "    # create list of cities with random coordinates\n",
    "    rand_cities = np.array([ (np.random.randint(0, max_x, dtype=int), np.random.randint(0, max_y, dtype=int) ) for _ in range(number_of_cities) ])\n",
    "    # \n",
    "    distances = np.zeros((number_of_cities, number_of_cities))\n",
    "    for i in range(0,number_of_cities):\n",
    "        for j in range(0, number_of_cities):\n",
    "            distances[i][j] = int(math.sqrt(( rand_cities[i,0] - rand_cities[j,0] )**2 + (rand_cities[i,1] - rand_cities[j,1])**2 ))\n",
    "            distances[j][i] = distances[i][j]\n",
    "    return rand_cities, distances\n",
    "    \n",
    "\n",
    "seed = 2021\n",
    "number_of_cities = 10\n",
    "max_x = 10\n",
    "max_y = 20\n",
    "cities, matrix = euclidean_2d_instance(number_of_cities, max_x, max_y, seed)\n",
    "\n",
    "print(cities)\n",
    "print(matrix)\n",
    "scatter_cities(cities)   "
   ]
  },
  {
   "cell_type": "markdown",
   "metadata": {},
   "source": [
    "3. Wyświetlanie wczytanej instancji (tj. wyświetlanie macierzy odległości podanej jako parametr)."
   ]
  },
  {
   "cell_type": "code",
   "execution_count": null,
   "metadata": {},
   "outputs": [],
   "source": [
    "def print_matrix(Distance_Matrix):\n",
    "    print(Distance_Matrix)"
   ]
  },
  {
   "cell_type": "markdown",
   "metadata": {},
   "source": [
    "4. Wyświetlanie rozwiązania (cyklu) podanego jako parametr.\n",
    "-- obowiązkowo: tekstowo (w konsoli)\n",
    "-- opcjonalnie: graficzna wizualizacja rozwiązania na płaszczyźnie (tylko dla TSP euklidesowego 2D)\n"
   ]
  },
  {
   "cell_type": "code",
   "execution_count": null,
   "metadata": {},
   "outputs": [],
   "source": [
    "def print_solution(solution):\n",
    "    for i in range(solution):\n",
    "        print(solution[i], ' -> ', solution[i+1], '\\n')"
   ]
  },
  {
   "cell_type": "markdown",
   "metadata": {},
   "source": [
    "5. Liczenie funkcji celu (długości cyklu) dla rozwiązania podanego jako parametr.\n",
    "-- na TSPLIB dla niektórych instancji podane jest przykładowe rozwiązanie optymalne (np. gr24.opt.tour.gz dla instancji gr24), dzięki któremu można zweryfikować działanie\n"
   ]
  },
  {
   "cell_type": "code",
   "execution_count": null,
   "metadata": {},
   "outputs": [],
   "source": [
    "def get_weight(cities_list, Distance_Matrix):\n",
    "    sum = 0\n",
    "    n = Dimension(Distance_Matrix)\n",
    "    for i in range(n-1):\n",
    "        sum += Distance_Matrix[cities_list(i)][cities_list(i+1)]\n",
    "    # back to the start city\n",
    "    sum =+ Distance_Matrix[n][0]\n",
    "    return 0\n"
   ]
  },
  {
   "cell_type": "markdown",
   "metadata": {},
   "source": [
    "6. Obliczanie wartości PRD(x) = 100% * (f(x) - f(ref)) / f(ref). Argumentem jest rozwiązanie x oraz f(ref) czyli wartość funkcji celu rozwiązania referencyjnego (optymalnego lub najlepszego znanego)."
   ]
  },
  {
   "cell_type": "code",
   "execution_count": null,
   "metadata": {},
   "outputs": [],
   "source": [
    "def PRD1(dist_sol):\n",
    "    best_known = 1318124\n",
    "    return 100 * (dist_sol - best_known) / best_known"
   ]
  },
  {
   "cell_type": "code",
   "execution_count": null,
   "metadata": {},
   "outputs": [],
   "source": [
    "def PRD2(solution, Distance_Matrix):\n",
    "    best_known = get_weight() # pass best known solution as parameter\n",
    "    return 100 * (get_weight(solution, Distance_Matrix) - best_known) / best_known"
   ]
  },
  {
   "cell_type": "markdown",
   "metadata": {},
   "source": [
    "### 1 Search for random solution.\n",
    "1. random numbers from 0 to n-1 e.g. n = 10: (9,5,0,6,7,8,4,3,2,1)\n",
    "2. calculate cost functions for initial permutation\n",
    "3. get variables min = initial\n",
    "4. generate random set as in initial\n",
    "    4.1. calculate cost function\n",
    "    4.2. if (current < min>) -> min = current\n",
    "5. repeat for k-times "
   ]
  },
  {
   "cell_type": "code",
   "execution_count": 6,
   "metadata": {},
   "outputs": [
    {
     "name": "stdout",
     "output_type": "stream",
     "text": [
      "[34, 12, 95, 112, 22, 20, 111, 56, 6, 61, 13, 66, 1, 100, 88, 86, 77, 15, 33, 40, 71, 42, 118, 31, 99, 35, 53, 108, 36, 69, 9, 30, 28, 29, 93, 119, 51, 85, 78, 76, 110, 81, 106, 65, 41, 103, 46, 25, 52, 117, 75, 70, 26, 18, 48, 60, 54, 64, 14, 109, 37, 68, 47, 79, 8, 67, 114, 116, 11, 107, 82, 89, 83, 91, 92, 24, 43, 23, 104, 115, 113, 74, 3, 16, 98, 62, 80, 5, 87, 39, 55, 0, 49, 90, 10, 2, 38, 63, 45, 4, 101, 44, 73, 17, 21, 19, 59, 58, 57, 72, 7, 96, 50, 32, 102, 27, 97, 84, 94, 105]\n"
     ]
    }
   ],
   "source": [
    "import random \n",
    "\n",
    "N = 120 # number of cities\n",
    "k = 1000000 # number of sumples\n",
    "\n",
    "#initial step\n",
    "trace = random.sample(range(N),N)\n",
    "min_weight # = funkcja liczaca wage\n",
    "min_permutation = trace\n",
    "# Wielka pentla powtarzajaca sie k-razy\n",
    "for i in (k):\n",
    "    new_trace = random.sample(range(N),N)\n",
    "    new_weight # = funkcja liczaca wage\n",
    "    if (new_weight < min_weight):\n",
    "        min_weight = new_weight\n",
    "        trace = new_trace\n",
    "\n",
    "print(min_weight)\n",
    "print(trace)\n"
   ]
  },
  {
   "cell_type": "markdown",
   "metadata": {},
   "source": [
    "1. Chose start city\n",
    "2. Find nearest neighbour for that city ang go there\n",
    "    - min_distance = distance(current_city, 0_city)\n",
    "    - min_city = 0_city\n",
    "    - for i in (N): \n",
    "    -   new_distance = distance(current_city, i_city)\n",
    "    -   if (new_distance < min_distance>) -> min_distance = new_distance, min_city = i_city\n",
    "    - current_city = min_city\n",
    "    - add current_city to the way (permutation)\n",
    "3. Repeat 2nd step for N-times where N is the number of cities"
   ]
  },
  {
   "cell_type": "markdown",
   "metadata": {},
   "source": [
    "def nearest_neighbour(city_index, Distance_Matrix):\n",
    "    n = dimension(Distance_Matrix)\n",
    "    if(city_index != 0):\n",
    "        min = Distance_Matrix[city_index][0]\n",
    "        min_ind = 0\n",
    "    else:\n",
    "        min = Distance_Matrix[city_index][1]\n",
    "        min_ind = 1\n",
    "    for i in range(n):\n",
    "        if(city_index != i):\n",
    "            if(Distance_Matrix[city_index][i] < min>):\n",
    "                min = Distance_Matrix[city_index][i]\n",
    "    return min_ind"
   ]
  },
  {
   "cell_type": "markdown",
   "metadata": {},
   "source": [
    "## Laboratoria 4"
   ]
  },
  {
   "cell_type": "markdown",
   "metadata": {},
   "source": [
    "Powinny być gotowe:\n",
    "- wczytywanie \n",
    "- algorytmy\n",
    "\n",
    "TODO:\n",
    "- sprawozdanie: wyniki, tabele,, porównanie wnioski - przesłać przed zajęciami\n",
    "- plan badań na dzisaij\n",
    "- 'zacząć pomiary' - przygotować pliki do pomiarów (by się parametry same zmieniały)\n",
    "- w pdf od heurystyki TSP są dane do badań - kilka scenariuszy badaawczych\n",
    "\n",
    "Plan badawczy:\n",
    "- wykres zmian PRD\n",
    "- uśrednione wyniki\n",
    "- ile może być 'x-ów'? zależność od n(ATSP, TSP, EUC2, ALL)\n",
    "- PRD i czas - miejsce przecięcia - próba wyznaczenia optymalnej ilości np. iteracji\n",
    "- nie trzeba wszystkiego, ale kompleksowo! (zbadać różne aspekty)\n",
    "- dobór punktów - co najmniej 4/5, (więcej to lepiej, ale równie rozłożone) \n",
    "    (Y - długość; X - instancja)\n",
    "- dla k-losowego: różne ziarna, średnia z wielu pomiarów\n",
    "- dla 2opt - może być równie zbierzny ale z dużą różnicą w czasie działania - zbadać!\n",
    "- ### testy statystyczne!\n",
    "- porównujemy parami (algorytmy - wyniki)\n",
    "- wyniki (dwie kolumny) \n",
    "- alpha (prawdopodobieństwo popełnienia błędu pierwszego rodzaju) np. 5% \n",
    "- dla wyników i aplhy puszczamy testy: Wilcoxon, t-test Studenta(bardziej wiarygodny)\n",
    "- jest to w pythonie, R, julia (ma być parami, na pewno R ma - może trzeba w nim policzyć testy statystyczne)\n",
    "- dostajemy p-value i porównujemy z alpha\n",
    "- if p-value < alpha -> hipoteza_0 jest nieprawdziwa czyli druga jest prawdziwa\n",
    "- id p-value > alpha -> niewaidomo co, bo nie można odrzucić hipotezy_0 i przyjąć H_A\n",
    "\n",
    "Przygotować do wyboru na zajęcia:\n",
    "- ziarno, wariant, instancje z stbliba, rozmiar (wszystkie możliwe parametry - by móc włączyć na żywo)\n",
    "\n",
    "Jest dobrze, nie jest dobrze, jest dobrze, nie jest dobrze ...\n"
   ]
  }
 ],
 "metadata": {
  "interpreter": {
   "hash": "b0452d89610dc7df08749795205020e3c897fe8df483bbd7809e609e1d757640"
  },
  "kernelspec": {
   "display_name": "Python 3.9.7 ('base')",
   "language": "python",
   "name": "python3"
  },
  "language_info": {
   "codemirror_mode": {
    "name": "ipython",
    "version": 3
   },
   "file_extension": ".py",
   "mimetype": "text/x-python",
   "name": "python",
   "nbconvert_exporter": "python",
   "pygments_lexer": "ipython3",
   "version": "3.9.7"
  },
  "orig_nbformat": 4
 },
 "nbformat": 4,
 "nbformat_minor": 2
}
