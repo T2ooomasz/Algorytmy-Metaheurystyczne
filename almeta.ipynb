{
 "cells": [
  {
   "cell_type": "markdown",
   "metadata": {},
   "source": [
    "# Kurs Algorytmy Metacheurystyczne\n",
    "laboratorium 2021/2022"
   ]
  },
  {
   "cell_type": "markdown",
   "metadata": {},
   "source": [
    "1. Wczytywanie instancji z biblioteki TSPLIB-a w formatach lower_diag_row, full_matrix, euc_2d\n",
    "-- przykładowe instancje: gr120.tsp, berlin52.tsp, br17.atsp\n",
    "-- obowiązkowo należy przetestować dla co najmniej jednej instancji danego formatu. Dobrze jest jednak przetestować na wszystkich instancjach danego formatu, by (1) sprawdzić czy zawsze działa, (2) zorientować się ile w ogóle jest takich instancji (pobrać je sobie od razu)\n",
    "-- dla EUC_2D należy pamiętać o odpowiednim zaokrągleniu wyników\n",
    "-- można użyć gotowych bibliotek (o ile działają)\n"
   ]
  },
  {
   "cell_type": "code",
   "execution_count": 13,
   "metadata": {},
   "outputs": [
    {
     "name": "stdout",
     "output_type": "stream",
     "text": [
      " 9999    3    5   48   48    8    8    5    5    3    3    0    3    5    8    8\n",
      "    5\n",
      "    3 9999    3   48   48    8    8    5    5    0    0    3    0    3    8    8\n",
      "    5\n",
      "    5    3 9999   72   72   48   48   24   24    3    3    5    3    0   48   48\n",
      "   24\n",
      "   48   48   74 9999    0    6    6   12   12   48   48   48   48   74    6    6\n",
      "   12\n",
      "   48   48   74    0 9999    6    6   12   12   48   48   48   48   74    6    6\n",
      "   12\n",
      "    8    8   50    6    6 9999    0    8    8    8    8    8    8   50    0    0\n",
      "    8\n",
      "    8    8   50    6    6    0 9999    8    8    8    8    8    8   50    0    0\n",
      "    8\n",
      "    5    5   26   12   12    8    8 9999    0    5    5    5    5   26    8    8\n",
      "    0\n",
      "    5    5   26   12   12    8    8    0 9999    5    5    5    5   26    8    8\n",
      "    0\n",
      "    3    0    3   48   48    8    8    5    5 9999    0    3    0    3    8    8\n",
      "    5\n",
      "    3    0    3   48   48    8    8    5    5    0 9999    3    0    3    8    8\n",
      "    5\n",
      "    0    3    5   48   48    8    8    5    5    3    3 9999    3    5    8    8\n",
      "    5\n",
      "    3    0    3   48   48    8    8    5    5    0    0    3 9999    3    8    8\n",
      "    5\n",
      "    5    3    0   72   72   48   48   24   24    3    3    5    3 9999   48   48\n",
      "   24\n",
      "    8    8   50    6    6    0    0    8    8    8    8    8    8   50 9999    0\n",
      "    8\n",
      "    8    8   50    6    6    0    0    8    8    8    8    8    8   50    0 9999\n",
      "    8\n",
      "    5    5   26   12   12    8    8    0    0    5    5    5    5   26    8    8\n",
      " 9999\n",
      "EOF\n",
      "\n",
      "[]\n"
     ]
    }
   ],
   "source": [
    "import math\n",
    "import numpy as np\n",
    "# Open input file\n",
    "infile = open('br17.atsp', 'r')\n",
    "\n",
    "# Read instance header\n",
    "Name = infile.readline().strip().split()[1] # NAME\n",
    "FileType = infile.readline().strip().split()[1] # TYPE\n",
    "Comment = infile.readline().strip().split()[1] # COMMENT\n",
    "Dimension = infile.readline().strip().split()[1] # DIMENSION\n",
    "EdgeWeightType = infile.readline().strip().split()[1] # EDGE_WEIGHT_TYPE\n",
    "infile.readline()\n",
    "infile.readline()\n",
    "\n",
    "N = int(Dimension)\n",
    "#l = [[int(num) for num in line.split('    ')] for line in infile]\n",
    "#input = np.loadtxt(\"br17.atsp\", dtype='i', delimiter=' ')\n",
    "#for i in range(N):\n",
    "#    for j in range(N):\n",
    "#        Matrix[i][j] = \n",
    "\n",
    "# Read node list\n",
    "nodelist = []\n",
    "distances = []\n",
    "x = infile.read()\n",
    "print(x)\n",
    "'''\n",
    "for i in range(0, N):\n",
    "    x = infile.readline().strip().split()[0:]\n",
    "    nodelist.append(x)\n",
    "'''\n",
    "'''   \n",
    "for i in range(0,N):\n",
    "    for j in range(0, N):\n",
    "        xd = nodelist[i][i]\n",
    "        distances[i][j] = distances[j][i] = int(math.sqrt())\n",
    "'''\n",
    "print(nodelist)\n",
    "# Close input file\n",
    "infile.close()"
   ]
  },
  {
   "cell_type": "code",
   "execution_count": null,
   "metadata": {},
   "outputs": [
    {
     "ename": "",
     "evalue": "",
     "output_type": "error",
     "traceback": [
      "\u001b[1;31mRunning cells with 'Python 3.8.8 64-bit (system)' requires ipykernel package.\n",
      "Run the following command to install 'ipykernel' into the Python environment. \n",
      "Command: 'C:/msys64/mingw64/bin/python.exe -m pip install ipykernel -U --user --force-reinstall'"
     ]
    }
   ],
   "source": [
    "import tsplib95\n",
    "import sys\n",
    "import random\n",
    "\n",
    "def fill_matrix(sizeTab, matr):\n",
    "\n",
    "    for i in range(0, sizeTab):\n",
    "        for j in range(0, sizeTab):\n",
    "            edge = i, j\n",
    "            matr[i][j] = problem.get_weight(*edge)\n",
    "\n",
    "\n",
    "def destination(sizeTab, matr):\n",
    "    weight = 0\n",
    "    for i in range(0, int(sizeTab) - 1):\n",
    "        weight += matr[tour[i]][tour[i + 1]]\n",
    "    weight += matr[tour[int(sizeTab) - 1]][tour[0]]\n",
    "    print(weight)\n",
    "\n",
    "problem = tsplib95.load('C:/Users/piotr/Desktop/Meta/ft53.atsp')\n",
    "problem2 = tsplib95.load('C:/Users/piotr/Desktop/Meta/brg180.opt.tour')\n",
    "k = problem.is_full_matrix()\n",
    "zmienna = list(problem.get_nodes())\n",
    "sizeTab = len(zmienna)\n",
    "print(sizeTab)\n",
    "matr = [[0 for _ in range(sizeTab)] for _ in range(sizeTab)]\n",
    "if not k:\n",
    "    if not problem.is_explicit():\n",
    "\n",
    "        tour = [0 for j in range(int(sizeTab))]\n",
    "        for i in range(0, int(sizeTab)):\n",
    "            tour[i] = i\n",
    "        random.shuffle(tour)\n",
    "        tour = list(problem2.tours[0])\n",
    "        print(tour)\n",
    "\n",
    "        for i in range(0, sizeTab):\n",
    "            for j in range(0, sizeTab):\n",
    "                edge = i + 1, j + 1\n",
    "                matr[i][j] = problem.get_weight(*edge)\n",
    "        weight = 0\n",
    "        for i in range(0, int(sizeTab) - 1):\n",
    "            weight += matr[tour[i] - 1][tour[i + 1] - 1]\n",
    "        weight += matr[tour[int(sizeTab) - 1] - 1][tour[0] - 1]\n",
    "        print(weight)\n",
    "    else:\n",
    "\n",
    "        tour = [0 for j in range(int(sizeTab))]\n",
    "        for i in range(0, int(sizeTab)):\n",
    "            tour[i] = i\n",
    "        random.shuffle(tour)\n",
    "        tour = list(problem2.tours[0])\n",
    "        for i in range(0, int(sizeTab)):\n",
    "            tour[i] = tour[i] - 1\n",
    "        print(tour)\n",
    "        fill_matrix(sizeTab, matr)\n",
    "        destination(sizeTab, matr)\n",
    "else:\n",
    "\n",
    "    tour = [0 for j in range(int(sizeTab))]\n",
    "    for i in range(0, int(sizeTab)):\n",
    "        tour[i] = i\n",
    "    random.shuffle(tour)\n",
    "    # tour = list(problem2.tours[0])\n",
    "    print(tour)\n",
    "    fill_matrix(sizeTab, matr)\n",
    "    destination(sizeTab, matr)\n",
    "\n",
    "matrix = [[0, 45, 16, 123], [124, 0, 34, 24], [12, 90, 0, 13], [1, 234, 122, 0]]\n",
    "tour = [0, 2, 1, 3]\n",
    "destination(4, matrix)"
   ]
  },
  {
   "cell_type": "markdown",
   "metadata": {},
   "source": [
    "2. Generowanie losowych instancji dla poszczególnych wariantów (ogólny/asymetryczny, symetryczny, euklidesowy 2D). Argumentem funkcji powinien być rozmiar problemu, ziarno dla generatora liczb pseudolosywch, wariant problemu oraz ewentualnie parametry decydujące o zakresie wartości."
   ]
  },
  {
   "cell_type": "code",
   "execution_count": 1,
   "metadata": {},
   "outputs": [],
   "source": [
    "import numpy as np\n",
    "number_of_cities = 100\n",
    "\n",
    "def symetric_random_instance(number_of_cities):\n",
    "    rand_matrix = np.random.random_integers(1, 100, size=10)\n",
    "    for i in range(Dimension(rand_matrix)):\n",
    "        rand_matrix[i][i] = 0"
   ]
  },
  {
   "cell_type": "markdown",
   "metadata": {},
   "source": [
    "3. Wyświetlanie wczytanej instancji (tj. wyświetlanie macierzy odległości podanej jako parametr)."
   ]
  },
  {
   "cell_type": "code",
   "execution_count": null,
   "metadata": {},
   "outputs": [],
   "source": [
    "def print_matrix(Distance_Matrix):\n",
    "    print(Distance_Matrix)"
   ]
  },
  {
   "cell_type": "markdown",
   "metadata": {},
   "source": [
    "4. Wyświetlanie rozwiązania (cyklu) podanego jako parametr.\n",
    "-- obowiązkowo: tekstowo (w konsoli)\n",
    "-- opcjonalnie: graficzna wizualizacja rozwiązania na płaszczyźnie (tylko dla TSP euklidesowego 2D)\n"
   ]
  },
  {
   "cell_type": "code",
   "execution_count": null,
   "metadata": {},
   "outputs": [],
   "source": [
    "def print_solution(solution):\n",
    "    for i in range(solution):\n",
    "        print(solution[i], ' -> ', solution[i+1], '\\n')"
   ]
  },
  {
   "cell_type": "markdown",
   "metadata": {},
   "source": [
    "5. Liczenie funkcji celu (długości cyklu) dla rozwiązania podanego jako parametr.\n",
    "-- na TSPLIB dla niektórych instancji podane jest przykładowe rozwiązanie optymalne (np. gr24.opt.tour.gz dla instancji gr24), dzięki któremu można zweryfikować działanie\n"
   ]
  },
  {
   "cell_type": "code",
   "execution_count": null,
   "metadata": {},
   "outputs": [],
   "source": [
    "def get_weight(cities_list, Distance_Matrix):\n",
    "    sum = 0\n",
    "    n = Dimension(Distance_Matrix)\n",
    "    for i in range(n-1):\n",
    "        sum += Distance_Matrix[cities_list(i)][cities_list(i+1)]\n",
    "    # back to the start city\n",
    "    sum =+ Distance_Matrix[n][0]\n",
    "    return 0\n"
   ]
  },
  {
   "cell_type": "markdown",
   "metadata": {},
   "source": [
    "6. Obliczanie wartości PRD(x) = 100% * (f(x) - f(ref)) / f(ref). Argumentem jest rozwiązanie x oraz f(ref) czyli wartość funkcji celu rozwiązania referencyjnego (optymalnego lub najlepszego znanego)."
   ]
  },
  {
   "cell_type": "code",
   "execution_count": null,
   "metadata": {},
   "outputs": [],
   "source": [
    "def PRD1(dist_sol):\n",
    "    best_known = 1318124\n",
    "    return 100 * (dist_sol - best_known) / best_known"
   ]
  },
  {
   "cell_type": "code",
   "execution_count": null,
   "metadata": {},
   "outputs": [],
   "source": [
    "def PRD2(solution, Distance_Matrix):\n",
    "    best_known = get_weight() # pass best known solution as parameter\n",
    "    return 100 * (get_weight(solution, Distance_Matrix) - best_known) / best_known"
   ]
  },
  {
   "cell_type": "markdown",
   "metadata": {},
   "source": [
    "#1 Search for random solution.\n",
    "1. random numbers from 0 to n-1 e.g. n = 10: (9,5,0,6,7,8,4,3,2,1)\n",
    "2. calculate cost functions for initial permutation\n",
    "3. get variables min = initial\n",
    "4. generate random set as in initial\n",
    "    4.1. calculate cost function\n",
    "    4.2. if (current < min>) -> min = current\n",
    "5. repeat for k-times "
   ]
  },
  {
   "cell_type": "code",
   "execution_count": 6,
   "metadata": {},
   "outputs": [
    {
     "name": "stdout",
     "output_type": "stream",
     "text": [
      "[34, 12, 95, 112, 22, 20, 111, 56, 6, 61, 13, 66, 1, 100, 88, 86, 77, 15, 33, 40, 71, 42, 118, 31, 99, 35, 53, 108, 36, 69, 9, 30, 28, 29, 93, 119, 51, 85, 78, 76, 110, 81, 106, 65, 41, 103, 46, 25, 52, 117, 75, 70, 26, 18, 48, 60, 54, 64, 14, 109, 37, 68, 47, 79, 8, 67, 114, 116, 11, 107, 82, 89, 83, 91, 92, 24, 43, 23, 104, 115, 113, 74, 3, 16, 98, 62, 80, 5, 87, 39, 55, 0, 49, 90, 10, 2, 38, 63, 45, 4, 101, 44, 73, 17, 21, 19, 59, 58, 57, 72, 7, 96, 50, 32, 102, 27, 97, 84, 94, 105]\n"
     ]
    }
   ],
   "source": [
    "import random \n",
    "\n",
    "N = 120 # number of cities\n",
    "k = 1000000 # number of sumples\n",
    "\n",
    "#initial step\n",
    "trace = random.sample(range(N),N)\n",
    "min_weight # = funkcja liczaca wage\n",
    "min_permutation = trace\n",
    "# Wielka pentla powtarzajaca sie k-razy\n",
    "for i in (k):\n",
    "    new_trace = random.sample(range(N),N)\n",
    "    new_weight # = funkcja liczaca wage\n",
    "    if (new_weight < min_weight):\n",
    "        min_weight = new_weight\n",
    "        trace = new_trace\n",
    "\n",
    "print(min_weight)\n",
    "print(trace)\n"
   ]
  },
  {
   "cell_type": "markdown",
   "metadata": {},
   "source": [
    "1. Chose start city\n",
    "2. Find nearest neighbour for that city ang go there\n",
    "    - min_distance = distance(current_city, 0_city)\n",
    "    - min_city = 0_city\n",
    "    - for i in (N): \n",
    "    -   new_distance = distance(current_city, i_city)\n",
    "    -   if (new_distance < min_distance>) -> min_distance = new_distance, min_city = i_city\n",
    "    - current_city = min_city\n",
    "    - add current_city to the way (permutation)\n",
    "3. Repeat 2nd step for N-times where N is the number of cities"
   ]
  },
  {
   "cell_type": "markdown",
   "metadata": {},
   "source": [
    "def nearest_neighbour(city_index, Distance_Matrix):\n",
    "    n = dimension(Distance_Matrix)\n",
    "    if(city_index != 0):\n",
    "        min = Distance_Matrix[city_index][0]\n",
    "        min_ind = 0\n",
    "    else:\n",
    "        min = Distance_Matrix[city_index][1]\n",
    "        min_ind = 1\n",
    "    for i in range(n):\n",
    "        if(city_index != i):\n",
    "            if(Distance_Matrix[city_index][i] < min>):\n",
    "                min = Distance_Matrix[city_index][i]\n",
    "    return min_ind"
   ]
  }
 ],
 "metadata": {
  "interpreter": {
   "hash": "b0452d89610dc7df08749795205020e3c897fe8df483bbd7809e609e1d757640"
  },
  "kernelspec": {
   "display_name": "Python 3.9.7 ('base')",
   "language": "python",
   "name": "python3"
  },
  "language_info": {
   "codemirror_mode": {
    "name": "ipython",
    "version": 3
   },
   "file_extension": ".py",
   "mimetype": "text/x-python",
   "name": "python",
   "nbconvert_exporter": "python",
   "pygments_lexer": "ipython3",
   "version": "3.9.7"
  },
  "orig_nbformat": 4
 },
 "nbformat": 4,
 "nbformat_minor": 2
}
