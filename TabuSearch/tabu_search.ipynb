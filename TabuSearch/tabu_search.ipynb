{
 "cells": [
  {
   "cell_type": "markdown",
   "metadata": {},
   "source": [
    "# Tabu Search"
   ]
  },
  {
   "cell_type": "markdown",
   "metadata": {},
   "source": [
    "Decyzje projektowe zaczynamy od:\n",
    "    1. Implementacja deterministyczna\n",
    "    2. Random\n",
    "    3. Invert\n",
    "    4. Przeglądamy wszystkich sąsiadów\n",
    "    5. Tabu będzie kolejką FIFO, o długości 'l'\n",
    "    6. FIFO\n",
    "    7. \n",
    "    8. Ilość iteracji bez poprawy\n",
    "    9. Jasne\n",
    "    10. Jak się uda."
   ]
  },
  {
   "cell_type": "markdown",
   "metadata": {},
   "source": [
    "Pseudocode:\n",
    "\n",
    "Step 1: \n",
    "        best_solution = random\n",
    "        best_candidate = best_solution\n",
    "        tabuList = []\n",
    "        tabuList.append = best_solution\n",
    "\n",
    "Step 2: (we do invert)\n",
    "        def Neighbours(best_candidate): # Q: generate neighbours with tabu restriction or later add tabu restirction?\n",
    "            # same as in 2opt\n",
    "            Neighborhood = []\n",
    "            for i\n",
    "                j = i\n",
    "                for j\n",
    "                    Neighbeorhood.append = invert(i, j)\n",
    "            return Neighborhood\n",
    "\n",
    "Step 3:\n",
    "        for i in Neighborhood:\n",
    "            lookForBestNeigbour: with tabu restriction.\n",
    "            if beterThanBest -> change\n",
    "        + aspiration criterium\n",
    "        what if all neighbours are on tabu list?\n",
    "\n",
    "Step 4:\n",
    "        tabuList.append()\n",
    "        if(tabuList.full) -> tabuList.firstOUT\n",
    "\n",
    "Step 5: (stop condition)\n",
    "        if number_of_iteration_without_upgrade > 10 -> STOP_condition = TRUE\n",
    "\n",
    "        return best_solution"
   ]
  },
  {
   "cell_type": "markdown",
   "metadata": {},
   "source": [
    "## Strojenie - lab 3\n",
    "    szukanie sensownych parametrow oraz tych mniej by pokazac roznice\n",
    "    zrobic 'autostrojenie' procedure ktora bedzie sama wybierac parametry\n",
    "        statycznie - jedna\n",
    "        dynamiczne - zmienne w czasie dzialania (np. zmiana dlugosci listy tabu)"
   ]
  },
  {
   "cell_type": "code",
   "execution_count": 2,
   "metadata": {},
   "outputs": [
    {
     "name": "stdout",
     "output_type": "stream",
     "text": [
      "deque([[0, 3], [1, 2], [0, 1]], maxlen=3)\n",
      "deque([[0, 3], [1, 2], [0, 1]], maxlen=3)\n",
      "deque([[3, 3], [0, 3], [1, 2]], maxlen=3)\n",
      "deque([[3, 3], [0, 3], [1, 2]], maxlen=3)\n",
      "True\n",
      "deque([[3, 3], [0, 3], [1, 2]], maxlen=3)\n",
      "3\n",
      "[0, 3]\n"
     ]
    }
   ],
   "source": [
    "import collections\n",
    "import numpy as np\n",
    "\n",
    "Neighborhood = np.array([[0,1,2,3], [1,2], [24]],dtype=object)\n",
    "\n",
    "TabuList = collections.deque([0]*3,maxlen=3)\n",
    "TabuList.appendleft([0,1])\n",
    "TabuList.appendleft([1,2])\n",
    "TabuList.appendleft([0,3])\n",
    "\n",
    "print(TabuList)\n",
    "TabuList_pomoc = collections.deque(maxlen=4)\n",
    "TabuList_pomoc = TabuList\n",
    "print(TabuList_pomoc)\n",
    "TabuList = TabuList_pomoc\n",
    "TabuList.appendleft([3,3])\n",
    "print(TabuList)\n",
    "print(TabuList_pomoc)\n",
    "if( Neighborhood[1] not in TabuList ):\n",
    "    print(\"xxx\")\n",
    "\n",
    "def check(test,array):\n",
    "    return any(np.array_equal(x, test) for x in array)\n",
    "\n",
    "x = check(Neighborhood[1], TabuList)\n",
    "print(x)\n",
    "print(TabuList)\n",
    "x = len(TabuList)\n",
    "print(x)\n",
    "print(TabuList[1])"
   ]
  },
  {
   "cell_type": "code",
   "execution_count": 15,
   "metadata": {},
   "outputs": [],
   "source": [
    "import pandas as pd\n",
    "data = np.zeros((122, 40, 30))\n",
    "\n",
    "writer = pd.ExcelWriter('file.xlsx', engine='xlsxwriter')\n",
    "\n",
    "for i in range(0, 30):\n",
    "    df = pd.DataFrame(data[:,:,i])\n",
    "    df.to_excel(writer, sheet_name='bin%d' % i)\n",
    "\n",
    "writer.save()"
   ]
  },
  {
   "cell_type": "code",
   "execution_count": 16,
   "metadata": {},
   "outputs": [
    {
     "name": "stdout",
     "output_type": "stream",
     "text": [
      "     Unnamed: 0  0  1  2  3  4  5  6  7  8  ...  30  31  32  33  34  35  36  \\\n",
      "0             0  0  0  0  0  0  0  0  0  0  ...   0   0   0   0   0   0   0   \n",
      "1             1  0  0  0  0  0  0  0  0  0  ...   0   0   0   0   0   0   0   \n",
      "2             2  0  0  0  0  0  0  0  0  0  ...   0   0   0   0   0   0   0   \n",
      "3             3  0  0  0  0  0  0  0  0  0  ...   0   0   0   0   0   0   0   \n",
      "4             4  0  0  0  0  0  0  0  0  0  ...   0   0   0   0   0   0   0   \n",
      "..          ... .. .. .. .. .. .. .. .. ..  ...  ..  ..  ..  ..  ..  ..  ..   \n",
      "117         117  0  0  0  0  0  0  0  0  0  ...   0   0   0   0   0   0   0   \n",
      "118         118  0  0  0  0  0  0  0  0  0  ...   0   0   0   0   0   0   0   \n",
      "119         119  0  0  0  0  0  0  0  0  0  ...   0   0   0   0   0   0   0   \n",
      "120         120  0  0  0  0  0  0  0  0  0  ...   0   0   0   0   0   0   0   \n",
      "121         121  0  0  0  0  0  0  0  0  0  ...   0   0   0   0   0   0   0   \n",
      "\n",
      "     37  38  39  \n",
      "0     0   0   0  \n",
      "1     0   0   0  \n",
      "2     0   0   0  \n",
      "3     0   0   0  \n",
      "4     0   0   0  \n",
      "..   ..  ..  ..  \n",
      "117   0   0   0  \n",
      "118   0   0   0  \n",
      "119   0   0   0  \n",
      "120   0   0   0  \n",
      "121   0   0   0  \n",
      "\n",
      "[122 rows x 41 columns]\n"
     ]
    }
   ],
   "source": [
    "df = pd.read_excel (r'file.xlsx')\n",
    "print (df)"
   ]
  },
  {
   "cell_type": "code",
   "execution_count": 17,
   "metadata": {},
   "outputs": [],
   "source": [
    "import numpy as np\n",
    "List_rows=np.array([['Tom', 9, 8, 'WA'],['Trex', 6, 15, 'CA'],  ['Kity', 7, 11, 'WA']])\n",
    "np.savetxt(\"animal.csv\",List_rows, delimiter =\",\", header='Name, Age, Weight, City',fmt ='%s',comments='')"
   ]
  },
  {
   "cell_type": "code",
   "execution_count": 23,
   "metadata": {},
   "outputs": [
    {
     "name": "stdout",
     "output_type": "stream",
     "text": [
      "shape of arr:  (5, 4, 3, 7)\n",
      "shape of load_original_arr:  (5, 4, 3, 7)\n",
      "Yes, both the arrays are same\n"
     ]
    }
   ],
   "source": [
    "\n",
    "import numpy as np\n",
    "  \n",
    "  \n",
    "arr = np.random.rand(5, 4, 3, 7)\n",
    "  \n",
    "# reshaping the array from 3D\n",
    "# matrice to 2D matrice.\n",
    "arr_reshaped = arr.reshape(arr.shape[0], -2)\n",
    "  \n",
    "# saving reshaped array to file.\n",
    "np.savetxt(\"geekfile.txt\", arr_reshaped)\n",
    "  \n",
    "# retrieving data from file.\n",
    "loaded_arr = np.loadtxt(\"geekfile.txt\")\n",
    "  \n",
    "# This loadedArr is a 2D array, therefore\n",
    "# we need to convert it to the original\n",
    "# array shape.reshaping to get original\n",
    "# matrice with original shape.\n",
    "load_original_arr = np.reshape(loaded_arr, (5, 4, 3, 7))\n",
    "  \n",
    "# check the shapes:\n",
    "print(\"shape of arr: \", arr.shape)\n",
    "print(\"shape of load_original_arr: \", load_original_arr.shape)\n",
    "  \n",
    "# check if both arrays are same or not:\n",
    "if (load_original_arr == arr).all():\n",
    "    print(\"Yes, both the arrays are same\")\n",
    "else:\n",
    "    print(\"No, both the arrays are not same\")"
   ]
  }
 ],
 "metadata": {
  "interpreter": {
   "hash": "b0452d89610dc7df08749795205020e3c897fe8df483bbd7809e609e1d757640"
  },
  "kernelspec": {
   "display_name": "Python 3.9.7 ('base')",
   "language": "python",
   "name": "python3"
  },
  "language_info": {
   "codemirror_mode": {
    "name": "ipython",
    "version": 3
   },
   "file_extension": ".py",
   "mimetype": "text/x-python",
   "name": "python",
   "nbconvert_exporter": "python",
   "pygments_lexer": "ipython3",
   "version": "3.9.7"
  },
  "orig_nbformat": 4
 },
 "nbformat": 4,
 "nbformat_minor": 2
}
