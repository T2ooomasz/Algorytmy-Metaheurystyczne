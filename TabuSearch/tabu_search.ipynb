{
 "cells": [
  {
   "cell_type": "markdown",
   "metadata": {},
   "source": [
    "# Tabu Search"
   ]
  },
  {
   "cell_type": "markdown",
   "metadata": {},
   "source": [
    "Decyzje projektowe zaczynamy od:\n",
    "    1. Implementacja deterministyczna\n",
    "    2. Random\n",
    "    3. Invert\n",
    "    4. Przeglądamy wszystkich sąsiadów\n",
    "    5. Tabu będzie kolejką FIFO, o długości 'l'\n",
    "    6. FIFO\n",
    "    7. \n",
    "    8. Ilość iteracji bez poprawy\n",
    "    9. Jasne\n",
    "    10. Jak się uda."
   ]
  },
  {
   "cell_type": "markdown",
   "metadata": {},
   "source": [
    "Pseudocode:\n",
    "\n",
    "Step 1: \n",
    "        best_solution = random\n",
    "        best_candidate = best_solution\n",
    "        tabuList = []\n",
    "        tabuList.append = best_solution\n",
    "\n",
    "Step 2: (we do invert)\n",
    "        def Neighbours(best_candidate): # Q: generate neighbours with tabu restriction or later add tabu restirction?\n",
    "            # same as in 2opt\n",
    "            Neighborhood = []\n",
    "            for i\n",
    "                j = i\n",
    "                for j\n",
    "                    Neighbeorhood.append = invert(i, j)\n",
    "            return Neighborhood\n",
    "\n",
    "Step 3:\n",
    "        for i in Neighborhood:\n",
    "            lookForBestNeigbour: with tabu restriction.\n",
    "            if beterThanBest -> change\n",
    "        + aspiration criterium\n",
    "        what if all neighbours are on tabu list?\n",
    "\n",
    "Step 4:\n",
    "        tabuList.append()\n",
    "        if(tabuList.full) -> tabuList.firstOUT\n",
    "\n",
    "Step 5: (stop condition)\n",
    "        if number_of_iteration_without_upgrade > 10 -> STOP_condition = TRUE\n",
    "\n",
    "        return best_solution"
   ]
  },
  {
   "cell_type": "code",
   "execution_count": null,
   "metadata": {},
   "outputs": [],
   "source": []
  }
 ],
 "metadata": {
  "interpreter": {
   "hash": "b0452d89610dc7df08749795205020e3c897fe8df483bbd7809e609e1d757640"
  },
  "kernelspec": {
   "display_name": "Python 3.9.7 ('base')",
   "language": "python",
   "name": "python3"
  },
  "language_info": {
   "name": "python",
   "version": "3.9.7"
  },
  "orig_nbformat": 4
 },
 "nbformat": 4,
 "nbformat_minor": 2
}
