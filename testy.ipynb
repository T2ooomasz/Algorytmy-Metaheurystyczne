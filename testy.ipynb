{
 "cells": [
  {
   "cell_type": "markdown",
   "metadata": {},
   "source": [
    "# Komiwojażer"
   ]
  },
  {
   "cell_type": "markdown",
   "metadata": {},
   "source": [
    "Importacja bibliotek"
   ]
  },
  {
   "cell_type": "code",
   "execution_count": 18,
   "metadata": {},
   "outputs": [],
   "source": [
    "import math\n",
    "import numpy as np\n",
    "import random\n",
    "import matplotlib.pyplot as plt"
   ]
  },
  {
   "cell_type": "code",
   "execution_count": 81,
   "metadata": {},
   "outputs": [],
   "source": [
    "# Open input file\n",
    "infile = open('berlin52.tsp', 'r')\n",
    "\n",
    "# Read instance header\n",
    "Name = infile.readline().strip().split()[1] # NAME\n",
    "FileType = infile.readline().strip().split()[1] # TYPE\n",
    "Comment = infile.readline().strip().split()[1] # COMMENT\n",
    "Dimension = infile.readline().strip().split()[1] # DIMENSION\n",
    "EdgeWeightType = infile.readline().strip().split()[1] # EDGE_WEIGHT_TYPE\n",
    "infile.readline()\n",
    "\n",
    "# Read node list\n",
    "N = int(Dimension)\n",
    "nodelist = []\n",
    "distances = np.zeros((N, N))\n",
    "\n",
    "for i in range(0, N):\n",
    "    x,y = infile.readline().strip().split()[1:]\n",
    "    nodelist.append([float(x), float(y)])\n",
    "\n",
    "for i in range(0,N):\n",
    "    for j in range(0, N):\n",
    "        # xd = nodelist[i][i]\n",
    "        distances[i][j] = int(math.sqrt((nodelist[i][0] - nodelist[j][0])**2 + (nodelist[i][1] - nodelist[j][1])**2))\n",
    "        distances[j][i] = distances[i][j]\n",
    "\n",
    "# print(nodelist)\n",
    "# Close input file\n",
    "infile.close()"
   ]
  },
  {
   "cell_type": "markdown",
   "metadata": {},
   "source": [
    "Funkcja wczytująca dane z Berlina (2D Euclid)"
   ]
  },
  {
   "cell_type": "code",
   "execution_count": 83,
   "metadata": {},
   "outputs": [],
   "source": [
    "def set_Matrix():\n",
    "    # Open input file\n",
    "    infile = open('berlin52.tsp', 'r')\n",
    "\n",
    "    # Read instance header\n",
    "    Name = infile.readline().strip().split()[1] # NAME\n",
    "    FileType = infile.readline().strip().split()[1] # TYPE\n",
    "    Comment = infile.readline().strip().split()[1] # COMMENT\n",
    "    Dimension = infile.readline().strip().split()[1] # DIMENSION\n",
    "    EdgeWeightType = infile.readline().strip().split()[1] # EDGE_WEIGHT_TYPE\n",
    "    infile.readline()\n",
    "\n",
    "    # Read node list\n",
    "    N = int(Dimension)\n",
    "    nodelist = []\n",
    "    distances = np.zeros((N, N))\n",
    "    for i in range(0, N):\n",
    "        x,y = infile.readline().strip().split()[1:]\n",
    "        nodelist.append([float(x), float(y)])\n",
    "\n",
    "    for i in range(0,N):\n",
    "        for j in range(0, N):\n",
    "            # xd = nodelist[i][i]\n",
    "            distances[i][j] = int(math.sqrt((nodelist[i][0] - nodelist[j][0])**2 + (nodelist[i][1] - nodelist[j][1])**2))\n",
    "            distances[j][i] = distances[i][j]\n",
    "\n",
    "    # print(nodelist)\n",
    "    # Close input file\n",
    "    infile.close()\n",
    "    return distances"
   ]
  },
  {
   "cell_type": "markdown",
   "metadata": {},
   "source": [
    "# Zbiór używanych funkcji"
   ]
  },
  {
   "cell_type": "code",
   "execution_count": 21,
   "metadata": {},
   "outputs": [],
   "source": [
    "# Wypisanie macierzy odległości\n",
    "def print_matrix(Distance_Matrix):\n",
    "    print(Distance_Matrix)"
   ]
  },
  {
   "cell_type": "code",
   "execution_count": 199,
   "metadata": {},
   "outputs": [],
   "source": [
    "# Zainicjalizowanie symetrycznej losowej macierzy odległości\n",
    "def symetric_random_instance(number_of_cities, min_distance, max_distance):\n",
    "    np.random.seed(2021)\n",
    "    rand_matrix =np.random.randint(min_distance, max_distance + 1, size=(number_of_cities,number_of_cities))\n",
    "    # np.random.random_integers(min_distance, max_distance, size=(number_of_cities,number_of_cities))\n",
    "    for i in range(number_of_cities):\n",
    "        rand_matrix[i][i] = 0\n",
    "        for j in range(number_of_cities):\n",
    "            rand_matrix[j][i] = rand_matrix[i][j]\n",
    "    return rand_matrix"
   ]
  },
  {
   "cell_type": "code",
   "execution_count": 200,
   "metadata": {},
   "outputs": [],
   "source": [
    "def asymetric_random_instance(number_of_cities, min_distance, max_distance):\n",
    "    np.random.seed(2021)\n",
    "    rand_matrix =np.random.randint(min_distance, max_distance + 1, size=(number_of_cities,number_of_cities))\n",
    "    # np.random.random_integers(min_distance, max_distance, size=(number_of_cities,number_of_cities))\n",
    "    for i in range(number_of_cities):\n",
    "        rand_matrix[i][i] = 0\n",
    "    return rand_matrix"
   ]
  },
  {
   "cell_type": "code",
   "execution_count": 23,
   "metadata": {},
   "outputs": [],
   "source": [
    "def print_solution(solution):\n",
    "    print(solution)\n",
    "    '''\n",
    "    iterate = len(solution) - 1\n",
    "    for i in range(iterate):\n",
    "        print(solution[i], ' -> ', solution[i+1], '\\n')\n",
    "    '''"
   ]
  },
  {
   "cell_type": "code",
   "execution_count": 24,
   "metadata": {},
   "outputs": [],
   "source": [
    "def get_weight(cities_list, Distance_Matrix):\n",
    "    sum = 0\n",
    "    n = np.shape(Distance_Matrix)[0]\n",
    "    for i in range(n-2):\n",
    "        sum = sum + Distance_Matrix[cities_list[i]][cities_list[i+1]]\n",
    "    # back to the start city\n",
    "    sum = sum + Distance_Matrix[n-1][0]\n",
    "    return sum\n"
   ]
  },
  {
   "cell_type": "markdown",
   "metadata": {},
   "source": [
    "## Metoda k-krotnego losowania\n",
    "1. random numbers from 0 to n-1 e.g. n = 10: (9,5,0,6,7,8,4,3,2,1)\n",
    "2. calculate cost functions for initial permutation\n",
    "3. get variables min = initial\n",
    "4. generate random set as in initial\n",
    "    4.1. calculate cost function\n",
    "    4.2. if (current < min>) -> min = current\n",
    "5. repeat for k-times "
   ]
  },
  {
   "cell_type": "code",
   "execution_count": 205,
   "metadata": {},
   "outputs": [
    {
     "data": {
      "image/png": "[encoded data removed]",
      "text/plain": [
       "<Figure size 432x288 with 1 Axes>"
      ]
     },
     "metadata": {
      "needs_background": "light"
     },
     "output_type": "display_data"
    }
   ],
   "source": [
    "N = 120 # number of cities for random matrix\n",
    "k = 100000 # number of samples\n",
    "Xsym = [None]*k\n",
    "Xasym = [None]*k\n",
    "Xber = [None]*k\n",
    "number_of_better_solution = 0\n",
    "\n",
    "max_distance = 500\n",
    "Matrixx_sym = symetric_random_instance(N, 1, max_distance) # distances from 1 to 100\n",
    "Matrixx_asym = asymetric_random_instance(N, 1, max_distance)\n",
    "\n",
    "Matrixx_ber = set_Matrix()\n",
    "Nber = np.shape(Matrixx_ber)[0]\n",
    "\n",
    "#initial step\n",
    "trace_sym = random.sample(range(N),N)\n",
    "trace_asym = random.sample(range(N),N)\n",
    "trace_ber = random.sample(range(Nber),Nber)\n",
    "\n",
    "min_weight_sym  = get_weight(trace_sym, Matrixx_sym)# = funkcja liczaca wage\n",
    "min_weight_asym  = get_weight(trace_asym, Matrixx_asym)# = funkcja liczaca wage\n",
    "min_weight_ber  = get_weight(trace_ber, Matrixx_ber)# = funkcja liczaca wage\n",
    "#print(min_weight)\n",
    "# min_permutation = trace\n",
    "# Wielka pentla powtarzajaca sie k-razy\n",
    "for i in range(k):\n",
    "    new_trace = random.sample(range(N),N)\n",
    "    new_weight = get_weight(new_trace, Matrixx_sym)# = funkcja liczaca wage\n",
    "    if (new_weight < min_weight_sym):\n",
    "        min_weight_sym = new_weight\n",
    "        trace_sym = new_trace\n",
    "        #number_of_better_solution += 1\n",
    "    Xsym[i] = min_weight_sym\n",
    "\n",
    "for i in range(k):\n",
    "    new_trace = random.sample(range(N),N)\n",
    "    new_weight = get_weight(new_trace, Matrixx_asym)# = funkcja liczaca wage\n",
    "    if (new_weight < min_weight_asym):\n",
    "        min_weight_asym = new_weight\n",
    "        trace_asym = new_trace\n",
    "    Xasym[i] = min_weight_asym\n",
    "\n",
    "for i in range(k):\n",
    "    new_trace = random.sample(range(Nber),Nber)\n",
    "    new_weight = get_weight(new_trace, Matrixx_ber)# = funkcja liczaca wage\n",
    "    if (new_weight < min_weight_ber):\n",
    "        min_weight_ber = new_weight\n",
    "        trace_ber = new_trace\n",
    "    Xber[i] = min_weight_ber\n",
    "\n",
    "print('symetryczne : \\t', min_weight_sym)\n",
    "print('asymetryczne : \\t', min_weight_asym)\n",
    "print('Berlin52 : \\t', min_weight_ber)\n",
    "#print(number_of_better_solution)\n",
    "\n",
    "plt.plot(Xsym, '-b')\n",
    "plt.plot(Xasym, '-g')\n",
    "plt.plot(Xber, '-r')\n",
    "plt.xlabel('iteration')\n",
    "plt.ylabel('best solution distance')\n",
    "# giving a title to my graph\n",
    "plt.title('Distance to iteration')\n",
    "plt.show()\n",
    "#print_solution(trace)\n"
   ]
  },
  {
   "cell_type": "markdown",
   "metadata": {},
   "source": [
    "## Metoda najbliższych sąsiadów (odległość)\n",
    "1. Chose start city\n",
    "2. Find nearest neighbour for that city ang go there\n",
    "    - min_distance = distance(current_city, 0_city)\n",
    "    - min_city = 0_city\n",
    "    - for i in (N): \n",
    "    -   new_distance = distance(current_city, i_city)\n",
    "    -   if (new_distance < min_distance>) -> min_distance = new_distance, min_city = i_city\n",
    "    - current_city = min_city\n",
    "    - add current_city to the way (permutation)\n",
    "3. Repeat 2nd step for N-times where N is the number of cities"
   ]
  },
  {
   "cell_type": "code",
   "execution_count": 207,
   "metadata": {},
   "outputs": [],
   "source": [
    "def nearest_neighbour(city_index, Distance_Matrix):\n",
    "    n = np.shape(Distance_Matrix)[0]\n",
    "    if(city_index != 0):\n",
    "        min = Distance_Matrix[city_index][0]\n",
    "        min_ind = 0\n",
    "    else:\n",
    "        min = Distance_Matrix[city_index][1]\n",
    "        min_ind = 1\n",
    "    for i in range(n):\n",
    "        if(city_index != i):\n",
    "            if(Distance_Matrix[city_index][i] < min):\n",
    "                min = Distance_Matrix[city_index][i]\n",
    "                min_ind = i\n",
    "    return min_ind\n"
   ]
  },
  {
   "cell_type": "code",
   "execution_count": 208,
   "metadata": {},
   "outputs": [],
   "source": [
    "def swapPositions(list, pos1, pos2):\n",
    "    list[pos1], list[pos2] = list[pos2], list[pos1]\n",
    "    return list"
   ]
  },
  {
   "cell_type": "code",
   "execution_count": 209,
   "metadata": {},
   "outputs": [
    {
     "name": "stdout",
     "output_type": "stream",
     "text": [
      "18811.0\n"
     ]
    }
   ],
   "source": [
    "N = 120 # number of cities\n",
    "Matrixx = symetric_random_instance(N, 1, 100)\n",
    "Matrixx = set_Matrix()\n",
    "N = np.shape(Matrixx)[0]\n",
    "solution = [None]*N\n",
    "\n",
    "for i in range(N):\n",
    "    go_to = nearest_neighbour(i, Matrixx)\n",
    "    solution[i] = go_to\n",
    "\n",
    "distance = get_weight(solution, Matrixx)\n",
    "print(distance)"
   ]
  },
  {
   "cell_type": "code",
   "execution_count": 210,
   "metadata": {},
   "outputs": [
    {
     "name": "stdout",
     "output_type": "stream",
     "text": [
      "18811.0\n",
      "18811.0\n"
     ]
    }
   ],
   "source": [
    "N = 120 # number of cities\n",
    "\n",
    "Matrixx = symetric_random_instance(N, 1, 100) # random\n",
    "Matrixx = set_Matrix()  # instance\n",
    "\n",
    "N = np.shape(Matrixx)[0]\n",
    "best_solution = [None]*N\n",
    "current_solution = [None]*N\n",
    "\n",
    "for i in range(N):\n",
    "    go_to = nearest_neighbour(i, Matrixx)\n",
    "    best_solution[i] = go_to\n",
    "best_distance = get_weight(best_solution, Matrixx)\n",
    "\n",
    "print(best_distance)\n",
    "\n",
    "for i in range(1, N):\n",
    "    for j in range(N):\n",
    "        go_to = nearest_neighbour(i, Matrixx)\n",
    "        current_solution[j] = go_to\n",
    "    current_distance = get_weight(current_solution, Matrixx)\n",
    "    if(current_distance < best_distance):\n",
    "        best_solution = current_solution\n",
    "\n",
    "print(best_distance)"
   ]
  },
  {
   "cell_type": "markdown",
   "metadata": {},
   "source": [
    "## Metoda najbliższych sąsiadów (swap)"
   ]
  },
  {
   "cell_type": "code",
   "execution_count": 211,
   "metadata": {},
   "outputs": [],
   "source": [
    "def nearest_swap_neighbour(city_list, Distance_Matrix):\n",
    "    leng = len(city_list)\n",
    "    min_weight = get_weight(city_list, Distance_Matrix)\n",
    "    best_trace = city_list.copy()\n",
    "    current_trace = city_list.copy()\n",
    "    for i in range(int(leng/2 +1 )):\n",
    "        for j in range(leng):\n",
    "            current_trace = city_list.copy()\n",
    "            current_trace = swapPositions(current_trace, i, j)\n",
    "            current_weight = get_weight(current_trace, Distance_Matrix)\n",
    "            if(current_weight < min_weight):\n",
    "                best_trace = current_trace\n",
    "                min_weight = current_weight\n",
    "    return best_trace"
   ]
  },
  {
   "cell_type": "code",
   "execution_count": 220,
   "metadata": {},
   "outputs": [
    {
     "name": "stdout",
     "output_type": "stream",
     "text": [
      "[[   0.  666.  281. ...  217.  789. 1220.]\n",
      " [ 666.    0.  649. ...  596. 1421. 1716.]\n",
      " [ 281.  649.    0. ...  463.  995. 1483.]\n",
      " ...\n",
      " [ 217.  596.  463. ...    0.  829. 1150.]\n",
      " [ 789. 1421.  995. ...  829.    0.  624.]\n",
      " [1220. 1716. 1483. ... 1150.  624.    0.]]\n",
      "52\n",
      "30186.0\n",
      "11481.0\n"
     ]
    }
   ],
   "source": [
    "N = 120 # number of cities\n",
    "k = 100 # how many tryes\n",
    "\n",
    "Matrixx_sym = symetric_random_instance(N, 1, 500)   # random\n",
    "Matrixx_ber = set_Matrix()  # instance\n",
    "\n",
    "Nber = np.shape(Matrixx_ber)[0]\n",
    "\n",
    "best_solution = [None]*N\n",
    "current_solution = [None]*N\n",
    "\n",
    "trace = random.sample(range(N),N)\n",
    "min_weight  = get_weight(trace, Matrixx)# = funkcja liczaca wage\n",
    "print(min_weight)\n",
    "\n",
    "for i in range(k):\n",
    "    trace = nearest_swap_neighbour(trace, Matrixx)\n",
    "\n",
    "print(get_weight(trace, Matrixx))\n",
    "#print(trace)\n",
    "\n"
   ]
  },
  {
   "cell_type": "code",
   "execution_count": 225,
   "metadata": {},
   "outputs": [
    {
     "name": "stdout",
     "output_type": "stream",
     "text": [
      "31603\n",
      "30189\n"
     ]
    }
   ],
   "source": [
    "N = 120 # number of cities\n",
    "\n",
    "Matrixx_ber = set_Matrix()  # instance\n",
    "Matrixx_sym = symetric_random_instance(N, 1, 500)   # random\n",
    "\n",
    "Nber = np.shape(Matrixx_ber)[0]\n",
    "\n",
    "best_solution = [None]*N\n",
    "current_solution = [None]*N\n",
    "\n",
    "trace = random.sample(range(N),N)\n",
    "min_weight_sym  = get_weight(trace, Matrixx_sym)# = funkcja liczaca wage\n",
    "print(min_weight_sym)\n",
    "\n",
    "while(True):\n",
    "    trace_old = trace.copy()\n",
    "    trace = nearest_swap_neighbour(trace, Matrixx_sym) # whole step not just simple swap - if this don't update trace then stop\n",
    "    if (get_weight(trace_old, Matrixx_sym) >= get_weight(trace, Matrixx_sym)):\n",
    "        break\n",
    "\n",
    "print(get_weight(trace, Matrixx_sym))\n",
    "#print(trace)"
   ]
  },
  {
   "cell_type": "markdown",
   "metadata": {},
   "source": [
    "## Metoda 2-opt"
   ]
  },
  {
   "cell_type": "code",
   "execution_count": 213,
   "metadata": {},
   "outputs": [],
   "source": [
    "def invert(city_list, i, j):\n",
    "    leng = len(city_list)\n",
    "    leng_sub_list = j - i \n",
    "    current_trace = city_list.copy()\n",
    "    for k in range(int(leng_sub_list/2 + 1)):\n",
    "        current_trace = swapPositions(current_trace, i, j - k)\n",
    "        #print(leng_sub_list)\n",
    "        i += 1\n",
    "        # print(current_trace)\n",
    "\n",
    "    return current_trace"
   ]
  },
  {
   "cell_type": "code",
   "execution_count": 215,
   "metadata": {},
   "outputs": [
    {
     "name": "stdout",
     "output_type": "stream",
     "text": [
      "18811.0\n",
      "13072.0\n"
     ]
    }
   ],
   "source": [
    "N = 50 # number of cities\n",
    "k = 10000\n",
    "\n",
    "Matrixx = symetric_random_instance(N, 1, 100) # random\n",
    "Matrixx = set_Matrix()  # instance\n",
    "N = np.shape(Matrixx)[0]\n",
    "\n",
    "best_solution = [None]*N\n",
    "current_solution = [None]*N\n",
    "\n",
    "trace = random.sample(range(N),N)\n",
    "for i in range(N):\n",
    "    go_to = nearest_neighbour(i, Matrixx)\n",
    "    best_solution[i] = go_to\n",
    "min_weight  = get_weight(best_solution, Matrixx)# = funkcja liczaca wage\n",
    "print(min_weight)\n",
    "\n",
    "improved = True\n",
    "while(improved):\n",
    "    for i in range(N-2):\n",
    "        for j in range(i, N-1):\n",
    "            current_solution = invert(best_solution, i, j)\n",
    "            current_distance = get_weight(current_solution, Matrixx)\n",
    "            if(current_distance < min_weight):\n",
    "                best_solution = current_solution\n",
    "                min_weight = current_distance\n",
    "                i = 0\n",
    "                j = 0\n",
    "\n",
    "    improved = False\n",
    "\n",
    "\n",
    "print(get_weight(best_solution, Matrixx))"
   ]
  }
 ],
 "metadata": {
  "interpreter": {
   "hash": "b0452d89610dc7df08749795205020e3c897fe8df483bbd7809e609e1d757640"
  },
  "kernelspec": {
   "display_name": "Python 3.9.7 ('base')",
   "language": "python",
   "name": "python3"
  },
  "language_info": {
   "codemirror_mode": {
    "name": "ipython",
    "version": 3
   },
   "file_extension": ".py",
   "mimetype": "text/x-python",
   "name": "python",
   "nbconvert_exporter": "python",
   "pygments_lexer": "ipython3",
   "version": "3.9.7"
  },
  "orig_nbformat": 4
 },
 "nbformat": 4,
 "nbformat_minor": 2
}
