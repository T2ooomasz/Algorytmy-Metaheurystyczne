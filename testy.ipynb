{
 "cells": [
  {
   "cell_type": "markdown",
   "metadata": {},
   "source": [
    "# Komiwojażer"
   ]
  },
  {
   "cell_type": "markdown",
   "metadata": {},
   "source": [
    "Importacja bibliotek"
   ]
  },
  {
   "cell_type": "code",
   "execution_count": 23,
   "metadata": {},
   "outputs": [],
   "source": [
    "import math\n",
    "import numpy as np\n",
    "import random\n",
    "import matplotlib.pyplot as plt\n",
    "import tsplib95"
   ]
  },
  {
   "cell_type": "code",
   "execution_count": 24,
   "metadata": {},
   "outputs": [],
   "source": [
    "# Open input file\n",
    "infile = open('berlin52.tsp', 'r')\n",
    "\n",
    "# Read instance header\n",
    "Name = infile.readline().strip().split()[1] # NAME\n",
    "FileType = infile.readline().strip().split()[1] # TYPE\n",
    "Comment = infile.readline().strip().split()[1] # COMMENT\n",
    "Dimension = infile.readline().strip().split()[1] # DIMENSION\n",
    "EdgeWeightType = infile.readline().strip().split()[1] # EDGE_WEIGHT_TYPE\n",
    "infile.readline()\n",
    "\n",
    "# Read node list\n",
    "N = int(Dimension)\n",
    "nodelist = []\n",
    "distances = np.zeros((N, N))\n",
    "\n",
    "for i in range(0, N):\n",
    "    x,y = infile.readline().strip().split()[1:]\n",
    "    nodelist.append([float(x), float(y)])\n",
    "\n",
    "for i in range(0,N):\n",
    "    for j in range(0, N):\n",
    "        # xd = nodelist[i][i]\n",
    "        distances[i][j] = int(math.sqrt((nodelist[i][0] - nodelist[j][0])**2 + (nodelist[i][1] - nodelist[j][1])**2))\n",
    "        distances[j][i] = distances[i][j]\n",
    "\n",
    "# Close input file\n",
    "infile.close()"
   ]
  },
  {
   "cell_type": "markdown",
   "metadata": {},
   "source": [
    "Funkcja wczytująca dane z Berlina (2D Euclid)"
   ]
  },
  {
   "cell_type": "code",
   "execution_count": 25,
   "metadata": {},
   "outputs": [],
   "source": [
    "def set_Matrix():\n",
    "    # Open input file\n",
    "    infile = open('berlin52.tsp', 'r')\n",
    "\n",
    "    # Read instance header\n",
    "    Name = infile.readline().strip().split()[1] # NAME\n",
    "    FileType = infile.readline().strip().split()[1] # TYPE\n",
    "    Comment = infile.readline().strip().split()[1] # COMMENT\n",
    "    Dimension = infile.readline().strip().split()[1] # DIMENSION\n",
    "    EdgeWeightType = infile.readline().strip().split()[1] # EDGE_WEIGHT_TYPE\n",
    "    infile.readline()\n",
    "\n",
    "    # Read node list\n",
    "    N = int(Dimension)\n",
    "    nodelist = []\n",
    "    distances = np.zeros((N, N))\n",
    "    for i in range(0, N):\n",
    "        x,y = infile.readline().strip().split()[1:]\n",
    "        nodelist.append([float(x), float(y)])\n",
    "\n",
    "    for i in range(0,N):\n",
    "        for j in range(0, N):\n",
    "            # xd = nodelist[i][i]\n",
    "            distances[i][j] = int(math.sqrt((nodelist[i][0] - nodelist[j][0])**2 + (nodelist[i][1] - nodelist[j][1])**2))\n",
    "            distances[j][i] = distances[i][j]\n",
    "\n",
    "    # print(nodelist)\n",
    "    # Close input file\n",
    "    infile.close()\n",
    "    return distances"
   ]
  },
  {
   "cell_type": "markdown",
   "metadata": {},
   "source": [
    "# Zbiór używanych funkcji"
   ]
  },
  {
   "cell_type": "code",
   "execution_count": 26,
   "metadata": {},
   "outputs": [],
   "source": [
    "# Wypisanie macierzy odległości\n",
    "def print_matrix(Distance_Matrix):\n",
    "    print(Distance_Matrix)"
   ]
  },
  {
   "cell_type": "code",
   "execution_count": 27,
   "metadata": {},
   "outputs": [
    {
     "name": "stdout",
     "output_type": "stream",
     "text": [
      "[[ 0  6 10  1  7  6  9  7  7  7]\n",
      " [ 6  0  6  8  2  2  6  3  1  4]\n",
      " [10  6  0  7  5  9  6  2  7  8]\n",
      " [ 1  8  7  0  7 10  3  5  4 10]\n",
      " [ 7  2  5  7  0  2 10  3  8  6]\n",
      " [ 6  2  9 10  2  0  8 10  8  8]\n",
      " [ 9  6  6  3 10  8  0  1  5  8]\n",
      " [ 7  3  2  5  3 10  1  0  7  2]\n",
      " [ 7  1  7  4  8  8  5  7  0  8]\n",
      " [ 7  4  8 10  6  8  8  2  8  0]]\n"
     ]
    }
   ],
   "source": [
    "# Zainicjalizowanie symetrycznej losowej macierzy odległości\n",
    "def symetric_random_instance(number_of_cities, min_distance, max_distance):\n",
    "    np.random.seed(2021)\n",
    "    rand_matrix =np.random.randint(min_distance, max_distance + 1, size=(number_of_cities,number_of_cities))\n",
    "    # np.random.random_integers(min_distance, max_distance, size=(number_of_cities,number_of_cities))\n",
    "    for i in range(number_of_cities):\n",
    "        rand_matrix[i][i] = 0\n",
    "        for j in range(number_of_cities):\n",
    "            rand_matrix[j][i] = rand_matrix[i][j]\n",
    "    return rand_matrix\n",
    "\n",
    "A = symetric_random_instance(10,1,10)\n",
    "print(A)"
   ]
  },
  {
   "cell_type": "code",
   "execution_count": 28,
   "metadata": {},
   "outputs": [
    {
     "name": "stdout",
     "output_type": "stream",
     "text": [
      "[[ 0  6 10  1  7  6  9  7  7  7]\n",
      " [ 7  0  6  8  2  2  6  3  1  4]\n",
      " [ 2  1  0  7  5  9  6  2  7  8]\n",
      " [ 6  7 10  0  7 10  3  5  4 10]\n",
      " [ 3  9  6  4  0  2 10  3  8  6]\n",
      " [ 4  8  4 10  5  0  8 10  8  8]\n",
      " [ 5  4  3 10  3  6  0  1  5  8]\n",
      " [ 4  2 10  5  3  4  7  0  7  2]\n",
      " [ 6  8  2 10  6  1  1  5  0  8]\n",
      " [ 4  5  8  1  4 10  7 10  4  0]]\n"
     ]
    }
   ],
   "source": [
    "def asymetric_random_instance(number_of_cities, min_distance, max_distance):\n",
    "    np.random.seed(2021)\n",
    "    rand_matrix =np.random.randint(min_distance, max_distance + 1, size=(number_of_cities,number_of_cities))\n",
    "    # np.random.random_integers(min_distance, max_distance, size=(number_of_cities,number_of_cities))\n",
    "    for i in range(number_of_cities):\n",
    "        rand_matrix[i][i] = 0\n",
    "    return rand_matrix\n",
    "A = asymetric_random_instance(10,1,10)\n",
    "print(A)"
   ]
  },
  {
   "cell_type": "code",
   "execution_count": 29,
   "metadata": {},
   "outputs": [],
   "source": [
    "def print_solution(solution):\n",
    "    print(solution)\n",
    "    '''\n",
    "    iterate = len(solution) - 1\n",
    "    for i in range(iterate):\n",
    "        print(solution[i], ' -> ', solution[i+1], '\\n')\n",
    "    '''"
   ]
  },
  {
   "cell_type": "code",
   "execution_count": 30,
   "metadata": {},
   "outputs": [],
   "source": [
    "def get_weight(cities_list, Distance_Matrix):\n",
    "    sum = 0\n",
    "    n = np.shape(Distance_Matrix)[0]\n",
    "    for i in range(n-2):\n",
    "        sum = sum + Distance_Matrix[cities_list[i]][cities_list[i+1]]\n",
    "    # back to the start city\n",
    "    sum = sum + Distance_Matrix[n-1][0]\n",
    "    return sum\n"
   ]
  },
  {
   "cell_type": "markdown",
   "metadata": {},
   "source": [
    "## Metoda k-krotnego losowania\n",
    "1. random numbers from 0 to n-1 e.g. n = 10: (9,5,0,6,7,8,4,3,2,1)\n",
    "2. calculate cost functions for initial permutation\n",
    "3. get variables min = initial\n",
    "4. generate random set as in initial\n",
    "    4.1. calculate cost function\n",
    "    4.2. if (current < min>) -> min = current\n",
    "5. repeat for k-times "
   ]
  },
  {
   "cell_type": "code",
   "execution_count": 31,
   "metadata": {},
   "outputs": [
    {
     "name": "stdout",
     "output_type": "stream",
     "text": [
      "symetryczne : \t 25556\n",
      "asymetryczne : \t 26016\n",
      "Berlin52 : \t 26578.0\n"
     ]
    },
    {
     "data": {
      "image/png": "[encoded data removed]",
      "text/plain": [
       "<Figure size 432x288 with 1 Axes>"
      ]
     },
     "metadata": {
      "needs_background": "light"
     },
     "output_type": "display_data"
    }
   ],
   "source": [
    "N = 120 # number of cities for random matrix\n",
    "k = 100 # number of samples\n",
    "Xsym = [None]*k\n",
    "Xasym = [None]*k\n",
    "Xber = [None]*k\n",
    "number_of_better_solution = 0\n",
    "\n",
    "max_distance = 500\n",
    "Matrixx_sym = symetric_random_instance(N, 1, max_distance) # distances from 1 to 100\n",
    "Matrixx_asym = asymetric_random_instance(N, 1, max_distance)\n",
    "\n",
    "Matrixx_ber = set_Matrix()\n",
    "Nber = np.shape(Matrixx_ber)[0]\n",
    "\n",
    "#initial step\n",
    "trace_sym = random.sample(range(N),N)\n",
    "trace_asym = random.sample(range(N),N)\n",
    "trace_ber = random.sample(range(Nber),Nber)\n",
    "\n",
    "min_weight_sym  = get_weight(trace_sym, Matrixx_sym)# = funkcja liczaca wage\n",
    "min_weight_asym  = get_weight(trace_asym, Matrixx_asym)# = funkcja liczaca wage\n",
    "min_weight_ber  = get_weight(trace_ber, Matrixx_ber)# = funkcja liczaca wage\n",
    "#print(min_weight)\n",
    "# min_permutation = trace\n",
    "# Wielka pentla powtarzajaca sie k-razy\n",
    "for i in range(k):\n",
    "    new_trace = random.sample(range(N),N)\n",
    "    new_weight = get_weight(new_trace, Matrixx_sym)# = funkcja liczaca wage\n",
    "    if (new_weight < min_weight_sym):\n",
    "        min_weight_sym = new_weight\n",
    "        trace_sym = new_trace\n",
    "        #number_of_better_solution += 1\n",
    "    Xsym[i] = min_weight_sym\n",
    "\n",
    "for i in range(k):\n",
    "    new_trace = random.sample(range(N),N)\n",
    "    new_weight = get_weight(new_trace, Matrixx_asym)# = funkcja liczaca wage\n",
    "    if (new_weight < min_weight_asym):\n",
    "        min_weight_asym = new_weight\n",
    "        trace_asym = new_trace\n",
    "    Xasym[i] = min_weight_asym\n",
    "\n",
    "for i in range(k):\n",
    "    new_trace = random.sample(range(Nber),Nber)\n",
    "    new_weight = get_weight(new_trace, Matrixx_ber)# = funkcja liczaca wage\n",
    "    if (new_weight < min_weight_ber):\n",
    "        min_weight_ber = new_weight\n",
    "        trace_ber = new_trace\n",
    "    Xber[i] = min_weight_ber\n",
    "\n",
    "print('symetryczne : \\t', min_weight_sym)\n",
    "print('asymetryczne : \\t', min_weight_asym)\n",
    "print('Berlin52 : \\t', min_weight_ber)\n",
    "#print(number_of_better_solution)\n",
    "\n",
    "plt.plot(Xsym, '-b')\n",
    "plt.plot(Xasym, '-g')\n",
    "plt.plot(Xber, '-r')\n",
    "plt.xlabel('iteration')\n",
    "plt.ylabel('best solution distance')\n",
    "# giving a title to my graph\n",
    "plt.title('Distance to iteration')\n",
    "plt.show()\n",
    "#print_solution(trace)\n"
   ]
  },
  {
   "cell_type": "markdown",
   "metadata": {},
   "source": [
    "## Metoda najbliższych sąsiadów (odległość)\n",
    "1. Chose start city\n",
    "2. Find nearest neighbour for that city ang go there\n",
    "    - min_distance = distance(current_city, 0_city)\n",
    "    - min_city = 0_city\n",
    "    - for i in (N): \n",
    "    -   new_distance = distance(current_city, i_city)\n",
    "    -   if (new_distance < min_distance>) -> min_distance = new_distance, min_city = i_city\n",
    "    - current_city = min_city\n",
    "    - add current_city to the way (permutation)\n",
    "3. Repeat 2nd step for N-times where N is the number of cities"
   ]
  },
  {
   "cell_type": "code",
   "execution_count": 32,
   "metadata": {},
   "outputs": [],
   "source": [
    "def swapPositions(list, pos1, pos2):\n",
    "    list[pos1], list[pos2] = list[pos2], list[pos1]\n",
    "    return list"
   ]
  },
  {
   "cell_type": "code",
   "execution_count": 33,
   "metadata": {},
   "outputs": [],
   "source": [
    "def nearest_neighbour(aval_city, city_index, Distance_Matrix):\n",
    "    n = len(aval_city)\n",
    "    min = Distance_Matrix[city_index][0]\n",
    "    min_ind = aval_city[0]\n",
    "    for i in range(1, n):\n",
    "        next_city = aval_city[i]\n",
    "        if(Distance_Matrix[city_index][next_city] < min):\n",
    "                min = Distance_Matrix[city_index][next_city]\n",
    "                min_ind = aval_city[i]\n",
    "    aval_city.remove(min_ind)\n",
    "    return min_ind\n"
   ]
  },
  {
   "cell_type": "code",
   "execution_count": 37,
   "metadata": {},
   "outputs": [
    {
     "name": "stdout",
     "output_type": "stream",
     "text": [
      "[0, 1, 2, 3, 4, 5, 6, 7, 8, 9, 10, 11, 12, 13, 14, 15, 16, 17, 18, 19, 20, 21, 22, 23, 24, 25, 26, 27, 28, 29, 30, 31, 32, 33, 34, 35, 36, 37, 38, 39, 40, 41, 42, 43, 44, 45, 46, 47, 48, 49, 50, 51]\n",
      "22128.0\n"
     ]
    }
   ],
   "source": [
    "N = 120 # number of cities\n",
    "Matrixx = symetric_random_instance(N, 1, 100)\n",
    "Matrixx = set_Matrix()\n",
    "N = np.shape(Matrixx)[0]\n",
    "solution = [None]*N\n",
    "aval_city = list(range(0,N))\n",
    "print(aval_city)\n",
    "for i in range(N):\n",
    "    go_to = nearest_neighbour(aval_city, i, Matrixx)\n",
    "    solution[i] = go_to\n",
    "\n",
    "distance = get_weight(solution, Matrixx)\n",
    "print(distance)\n",
    "#print(solution)"
   ]
  },
  {
   "cell_type": "code",
   "execution_count": 38,
   "metadata": {},
   "outputs": [
    {
     "name": "stdout",
     "output_type": "stream",
     "text": [
      "22128.0\n",
      "16351.0\n"
     ]
    },
    {
     "data": {
      "image/png": "[encoded data removed]",
      "text/plain": [
       "<Figure size 432x288 with 1 Axes>"
      ]
     },
     "metadata": {
      "needs_background": "light"
     },
     "output_type": "display_data"
    }
   ],
   "source": [
    "N = 120 # number of cities\n",
    "\n",
    "Matrixx = symetric_random_instance(N, 1, 100) # random\n",
    "Matrixx = set_Matrix()  # instance\n",
    "\n",
    "N = np.shape(Matrixx)[0]\n",
    "best_solution = [None]*N\n",
    "current_solution = [None]*N\n",
    "aval_city = list(range(0,N))\n",
    "X = []\n",
    "\n",
    "for i in range(N):\n",
    "    go_to = nearest_neighbour(aval_city, i, Matrixx)\n",
    "    best_solution[i] = go_to\n",
    "best_distance = get_weight(best_solution, Matrixx)\n",
    "\n",
    "X.append(best_distance)\n",
    "print(best_distance)\n",
    "\n",
    "for i in range(1, N):\n",
    "    aval_city = list(range(0,N))\n",
    "    for j in range(N):\n",
    "        go_to = nearest_neighbour(aval_city, i, Matrixx)\n",
    "        current_solution[j] = go_to\n",
    "    current_distance = get_weight(current_solution, Matrixx)\n",
    "    if(current_distance < best_distance):\n",
    "        best_solution = current_solution\n",
    "        best_distance = current_distance\n",
    "    X.append(current_distance)\n",
    "\n",
    "print(best_distance)\n",
    "plt.plot(X, '-b')\n",
    "plt.xlabel('iteration')\n",
    "plt.ylabel('best solution distance')\n",
    "# giving a title to my graph\n",
    "plt.title('Distance to iteration')\n",
    "plt.show()\n",
    "#print_solution(trace)"
   ]
  },
  {
   "cell_type": "markdown",
   "metadata": {},
   "source": [
    "## Metoda najbliższych sąsiadów (swap)"
   ]
  },
  {
   "cell_type": "code",
   "execution_count": 87,
   "metadata": {},
   "outputs": [],
   "source": [
    "def nearest_swap_neighbour(city_list, Distance_Matrix):\n",
    "    leng = len(city_list)\n",
    "    min_weight = get_weight(city_list, Distance_Matrix)\n",
    "    best_trace = city_list.copy()\n",
    "    current_trace = city_list.copy()\n",
    "    for i in range(int(leng/2 +1 )):\n",
    "        for j in range(leng):\n",
    "            current_trace = city_list.copy()\n",
    "            current_trace = swapPositions(current_trace, i, j)\n",
    "            current_weight = get_weight(current_trace, Distance_Matrix)\n",
    "            if(current_weight < min_weight):\n",
    "                best_trace = current_trace\n",
    "                min_weight = current_weight\n",
    "    return best_trace"
   ]
  },
  {
   "cell_type": "code",
   "execution_count": 101,
   "metadata": {},
   "outputs": [
    {
     "name": "stdout",
     "output_type": "stream",
     "text": [
      "29026.0\n",
      "11541.0\n"
     ]
    }
   ],
   "source": [
    "N = 120 # number of cities\n",
    "k = 100 # how many tryes\n",
    "\n",
    "#Matrixx_sym = symetric_random_instance(N, 1, 500)   # random\n",
    "Matrixx_ber = set_Matrix()  # instance\n",
    "\n",
    "Nber = np.shape(Matrixx_ber)[0]\n",
    "\n",
    "best_solution = [None]*N\n",
    "current_solution = [None]*N\n",
    "\n",
    "trace = random.sample(range(Nber),Nber)\n",
    "min_weight  = get_weight(trace, Matrixx_ber)# = funkcja liczaca wage\n",
    "print(min_weight)\n",
    "\n",
    "for i in range(k):\n",
    "    trace = nearest_swap_neighbour(trace, Matrixx_ber)\n",
    "\n",
    "print(get_weight(trace, Matrixx_ber))\n",
    "#print(trace)\n",
    "\n"
   ]
  },
  {
   "cell_type": "code",
   "execution_count": 102,
   "metadata": {},
   "outputs": [
    {
     "name": "stdout",
     "output_type": "stream",
     "text": [
      "29787\n",
      "5844\n"
     ]
    },
    {
     "data": {
      "image/png": "[encoded data removed]",
      "text/plain": [
       "<Figure size 432x288 with 1 Axes>"
      ]
     },
     "metadata": {
      "needs_background": "light"
     },
     "output_type": "display_data"
    }
   ],
   "source": [
    "N = 120 # number of cities\n",
    "\n",
    "#Matrixx_ber = set_Matrix()  # instance\n",
    "# #Nber = np.shape(Matrixx_ber)[0]\n",
    "Matrixx_sym = symetric_random_instance(N, 1, 500)   # random\n",
    "\n",
    "\n",
    "\n",
    "best_solution = [None]*N\n",
    "current_solution = [None]*N\n",
    "X = []\n",
    "\n",
    "trace = random.sample(range(N),N)\n",
    "min_weight_sym  = get_weight(trace, Matrixx_sym)# = funkcja liczaca wage\n",
    "print(min_weight_sym)\n",
    "\n",
    "while(True):\n",
    "    trace_old = trace.copy()\n",
    "    trace = nearest_swap_neighbour(trace, Matrixx_sym) # whole step not just simple swap - if this don't update trace then stop\n",
    "    old = get_weight(trace_old, Matrixx_sym)\n",
    "    new = get_weight(trace, Matrixx_sym)\n",
    "    if (old <= new):\n",
    "        break\n",
    "    X.append(get_weight(trace, Matrixx_sym))\n",
    "\n",
    "print(get_weight(trace, Matrixx_sym))\n",
    "#print(trace)\n",
    "plt.plot(X, '-b')\n",
    "plt.xlabel('iteration')\n",
    "plt.ylabel('best solution distance')\n",
    "# giving a title to my graph\n",
    "plt.title('Distance to iteration')\n",
    "plt.show()\n",
    "#print_solution(best_solution)"
   ]
  },
  {
   "cell_type": "markdown",
   "metadata": {},
   "source": [
    "## Metoda 2-opt"
   ]
  },
  {
   "cell_type": "code",
   "execution_count": 128,
   "metadata": {},
   "outputs": [],
   "source": [
    "def invert(city_list, i, j):\n",
    "    leng = len(city_list)\n",
    "    leng_sub_list = j - i \n",
    "    current_trace = city_list.copy()\n",
    "    for k in range(int(leng_sub_list/2 + 1)):\n",
    "        current_trace = swapPositions(current_trace, i, j - k)\n",
    "        #print(leng_sub_list)\n",
    "        i += 1\n",
    "        # print(current_trace)\n",
    "\n",
    "    return current_trace"
   ]
  },
  {
   "cell_type": "code",
   "execution_count": 131,
   "metadata": {},
   "outputs": [
    {
     "name": "stdout",
     "output_type": "stream",
     "text": [
      "8427.0\n"
     ]
    },
    {
     "data": {
      "image/png": "[encoded data removed]",
      "text/plain": [
       "<Figure size 432x288 with 1 Axes>"
      ]
     },
     "metadata": {
      "needs_background": "light"
     },
     "output_type": "display_data"
    },
    {
     "name": "stdout",
     "output_type": "stream",
     "text": [
      "111.73428798727127 %\n"
     ]
    }
   ],
   "source": [
    "# N = 50 # number of cities\n",
    "# k = 10000\n",
    "\n",
    "# Matrixx = symetric_random_instance(N, 1, 100) # random\n",
    "Matrixx = set_Matrix()  # instance\n",
    "N = np.shape(Matrixx)[0]\n",
    "\n",
    "best_solution = [None]*N\n",
    "current_solution = [None]*N\n",
    "X = []\n",
    "aval_city = list(range(0,N))\n",
    "# trace = random.sample(range(N),N)\n",
    "for i in range(N):\n",
    "    go_to = nearest_neighbour(aval_city, i, Matrixx)\n",
    "    best_solution[i] = go_to\n",
    "min_weight  = get_weight(best_solution, Matrixx)# = funkcja liczaca wage\n",
    "#print(min_weight)\n",
    "#print(best_solution)\n",
    "improved = True\n",
    "while(improved):\n",
    "    i = 0\n",
    "    while i < N-1:\n",
    "        j = i + 1\n",
    "        while j < N:\n",
    "            current_solution = best_solution.copy()\n",
    "            current_solution = invert(current_solution, i, j)\n",
    "            current_distance = get_weight(current_solution, Matrixx)\n",
    "            if(current_distance < min_weight):\n",
    "                best_solution = current_solution\n",
    "                min_weight = current_distance\n",
    "                i = 0\n",
    "                j = 0\n",
    "            \n",
    "            X.append(min_weight)\n",
    "            j += 1\n",
    "        i += 1\n",
    "\n",
    "    improved = False\n",
    "\n",
    "print(get_weight(best_solution, Matrixx))\n",
    "plt.plot(X, '-r')\n",
    "plt.xlabel('iteration')\n",
    "plt.ylabel('best solution distance')\n",
    "# giving a title to my graph\n",
    "plt.title('Distance to iteration')\n",
    "plt.show()\n",
    "#print_solution(best_solution)\n",
    "PRD = min_weight / 7542 * 100\n",
    "print(PRD, \"%\")\n"
   ]
  },
  {
   "cell_type": "code",
   "execution_count": 21,
   "metadata": {},
   "outputs": [
    {
     "name": "stdout",
     "output_type": "stream",
     "text": [
      "[[0.  0.1 0.2 0.3]\n",
      " [1.  1.1 1.2 1.3]]\n",
      "1.0\n"
     ]
    },
    {
     "data": {
      "image/png": "[encoded data removed]",
      "text/plain": [
       "<Figure size 432x288 with 1 Axes>"
      ]
     },
     "metadata": {
      "needs_background": "light"
     },
     "output_type": "display_data"
    }
   ],
   "source": [
    "import numpy as np\n",
    "import matplotlib.pyplot as plt\n",
    "\n",
    "X = np.array([[], []])\n",
    "X = np.append(X, np.array([[0.0], [1.0]]), axis = 1)\n",
    "X = np.append(X, np.array([[0.1], [1.1]]), axis = 1)\n",
    "X = np.append(X, np.array([[0.2], [1.2]]), axis = 1)\n",
    "X = np.append(X, np.array([[0.3], [1.3]]), axis = 1)\n",
    "print(X)\n",
    "print(X[1][0])\n",
    "plt.plot(X[0], '-b', X[1], '-r')\n",
    "plt.xlabel('iteration')\n",
    "plt.ylabel('best solution distance')\n",
    "plt.title('Distance to iteration')\n",
    "plt.grid(True)\n",
    "plt.show()"
   ]
  }
 ],
 "metadata": {
  "interpreter": {
   "hash": "b0452d89610dc7df08749795205020e3c897fe8df483bbd7809e609e1d757640"
  },
  "kernelspec": {
   "display_name": "Python 3.9.7 ('base')",
   "language": "python",
   "name": "python3"
  },
  "language_info": {
   "codemirror_mode": {
    "name": "ipython",
    "version": 3
   },
   "file_extension": ".py",
   "mimetype": "text/x-python",
   "name": "python",
   "nbconvert_exporter": "python",
   "pygments_lexer": "ipython3",
   "version": "3.9.7"
  },
  "orig_nbformat": 4
 },
 "nbformat": 4,
 "nbformat_minor": 2
}
